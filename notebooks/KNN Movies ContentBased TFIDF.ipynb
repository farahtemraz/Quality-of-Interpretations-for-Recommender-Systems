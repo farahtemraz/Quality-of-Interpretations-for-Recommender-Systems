{
 "cells": [
  {
   "cell_type": "code",
   "execution_count": 1,
   "id": "acoustic-muslim",
   "metadata": {},
   "outputs": [],
   "source": [
    "import pandas as pd\n",
    "import numpy as np\n",
    "\n",
    "from recoxplainer.evaluator import Splitter, Evaluator\n",
    "from recoxplainer.config import cfg\n",
    "from recoxplainer.data_reader import DataReader \n",
    "from recoxplainer.explain import KNNPostHocExplainer\n",
    "from recoxplainer.evaluator import ExplanationEvaluator\n",
    "\n",
    "from scipy import sparse\n",
    "from sklearn.metrics.pairwise import cosine_similarity"
   ]
  },
  {
   "cell_type": "code",
   "execution_count": 2,
   "id": "fossil-vienna",
   "metadata": {},
   "outputs": [],
   "source": [
    "ratings = pd.read_csv('datasets/ml-1m/ratings.csv', sep=',', encoding='latin-1')\n",
    "users = pd.read_csv('datasets/ml-1m/users.csv', sep=',', encoding='latin-1')\n",
    "movies = pd.read_csv('datasets/ml-1m/movies.csv', sep=',',encoding='latin-1')"
   ]
  },
  {
   "cell_type": "code",
   "execution_count": 3,
   "id": "transsexual-penalty",
   "metadata": {},
   "outputs": [
    {
     "name": "stderr",
     "output_type": "stream",
     "text": [
      "/Users/mac/opt/anaconda3/envs/recoxplainer/lib/python3.6/site-packages/pandas/core/generic.py:5170: SettingWithCopyWarning: \n",
      "A value is trying to be set on a copy of a slice from a DataFrame.\n",
      "Try using .loc[row_indexer,col_indexer] = value instead\n",
      "\n",
      "See the caveats in the documentation: https://pandas.pydata.org/pandas-docs/stable/user_guide/indexing.html#returning-a-view-versus-a-copy\n",
      "  self[name] = value\n",
      "/Users/mac/opt/anaconda3/envs/recoxplainer/lib/python3.6/site-packages/pandas/core/generic.py:5170: SettingWithCopyWarning: \n",
      "A value is trying to be set on a copy of a slice from a DataFrame.\n",
      "Try using .loc[row_indexer,col_indexer] = value instead\n",
      "\n",
      "See the caveats in the documentation: https://pandas.pydata.org/pandas-docs/stable/user_guide/indexing.html#returning-a-view-versus-a-copy\n",
      "  self[name] = value\n"
     ]
    }
   ],
   "source": [
    "data = DataReader(**cfg.ml1m)\n",
    "data.make_consecutive_ids_in_dataset()\n",
    "data.binarize(binary_threshold=1)\n",
    "sp = Splitter()\n",
    "train, test = sp.split_leave_n_out(data, frac=0.1)"
   ]
  },
  {
   "cell_type": "code",
   "execution_count": 4,
   "id": "junior-personality",
   "metadata": {},
   "outputs": [
    {
     "data": {
      "text/html": [
       "<div>\n",
       "<style scoped>\n",
       "    .dataframe tbody tr th:only-of-type {\n",
       "        vertical-align: middle;\n",
       "    }\n",
       "\n",
       "    .dataframe tbody tr th {\n",
       "        vertical-align: top;\n",
       "    }\n",
       "\n",
       "    .dataframe thead th {\n",
       "        text-align: right;\n",
       "    }\n",
       "</style>\n",
       "<table border=\"1\" class=\"dataframe\">\n",
       "  <thead>\n",
       "    <tr style=\"text-align: right;\">\n",
       "      <th></th>\n",
       "      <th>origin_uid</th>\n",
       "      <th>userId</th>\n",
       "      <th>gender</th>\n",
       "      <th>age</th>\n",
       "      <th>occupation</th>\n",
       "      <th>zipcode</th>\n",
       "    </tr>\n",
       "  </thead>\n",
       "  <tbody>\n",
       "    <tr>\n",
       "      <th>0</th>\n",
       "      <td>1</td>\n",
       "      <td>0</td>\n",
       "      <td>F</td>\n",
       "      <td>1</td>\n",
       "      <td>10</td>\n",
       "      <td>48067</td>\n",
       "    </tr>\n",
       "    <tr>\n",
       "      <th>1</th>\n",
       "      <td>2</td>\n",
       "      <td>1</td>\n",
       "      <td>M</td>\n",
       "      <td>56</td>\n",
       "      <td>16</td>\n",
       "      <td>70072</td>\n",
       "    </tr>\n",
       "    <tr>\n",
       "      <th>2</th>\n",
       "      <td>3</td>\n",
       "      <td>2</td>\n",
       "      <td>M</td>\n",
       "      <td>25</td>\n",
       "      <td>15</td>\n",
       "      <td>55117</td>\n",
       "    </tr>\n",
       "    <tr>\n",
       "      <th>3</th>\n",
       "      <td>4</td>\n",
       "      <td>3</td>\n",
       "      <td>M</td>\n",
       "      <td>45</td>\n",
       "      <td>7</td>\n",
       "      <td>02460</td>\n",
       "    </tr>\n",
       "    <tr>\n",
       "      <th>4</th>\n",
       "      <td>5</td>\n",
       "      <td>4</td>\n",
       "      <td>M</td>\n",
       "      <td>25</td>\n",
       "      <td>20</td>\n",
       "      <td>55455</td>\n",
       "    </tr>\n",
       "  </tbody>\n",
       "</table>\n",
       "</div>"
      ],
      "text/plain": [
       "   origin_uid  userId gender  age  occupation zipcode\n",
       "0           1       0      F    1          10   48067\n",
       "1           2       1      M   56          16   70072\n",
       "2           3       2      M   25          15   55117\n",
       "3           4       3      M   45           7   02460\n",
       "4           5       4      M   25          20   55455"
      ]
     },
     "execution_count": 4,
     "metadata": {},
     "output_type": "execute_result"
    }
   ],
   "source": [
    "users.head()"
   ]
  },
  {
   "cell_type": "code",
   "execution_count": 5,
   "id": "legislative-clothing",
   "metadata": {},
   "outputs": [
    {
     "data": {
      "text/html": [
       "<div>\n",
       "<style scoped>\n",
       "    .dataframe tbody tr th:only-of-type {\n",
       "        vertical-align: middle;\n",
       "    }\n",
       "\n",
       "    .dataframe tbody tr th {\n",
       "        vertical-align: top;\n",
       "    }\n",
       "\n",
       "    .dataframe thead th {\n",
       "        text-align: right;\n",
       "    }\n",
       "</style>\n",
       "<table border=\"1\" class=\"dataframe\">\n",
       "  <thead>\n",
       "    <tr style=\"text-align: right;\">\n",
       "      <th></th>\n",
       "      <th>origin_iid</th>\n",
       "      <th>itemId</th>\n",
       "      <th>title</th>\n",
       "      <th>genre</th>\n",
       "    </tr>\n",
       "  </thead>\n",
       "  <tbody>\n",
       "    <tr>\n",
       "      <th>0</th>\n",
       "      <td>1193</td>\n",
       "      <td>0</td>\n",
       "      <td>One Flew Over the Cuckoo's Nest (1975)</td>\n",
       "      <td>Drama</td>\n",
       "    </tr>\n",
       "    <tr>\n",
       "      <th>1</th>\n",
       "      <td>661</td>\n",
       "      <td>1</td>\n",
       "      <td>James and the Giant Peach (1996)</td>\n",
       "      <td>Animation|Children's|Musical</td>\n",
       "    </tr>\n",
       "    <tr>\n",
       "      <th>2</th>\n",
       "      <td>914</td>\n",
       "      <td>2</td>\n",
       "      <td>My Fair Lady (1964)</td>\n",
       "      <td>Musical|Romance</td>\n",
       "    </tr>\n",
       "    <tr>\n",
       "      <th>3</th>\n",
       "      <td>3408</td>\n",
       "      <td>3</td>\n",
       "      <td>Erin Brockovich (2000)</td>\n",
       "      <td>Drama</td>\n",
       "    </tr>\n",
       "    <tr>\n",
       "      <th>4</th>\n",
       "      <td>2355</td>\n",
       "      <td>4</td>\n",
       "      <td>Bug's Life, A (1998)</td>\n",
       "      <td>Animation|Children's|Comedy</td>\n",
       "    </tr>\n",
       "  </tbody>\n",
       "</table>\n",
       "</div>"
      ],
      "text/plain": [
       "   origin_iid  itemId                                   title  \\\n",
       "0        1193       0  One Flew Over the Cuckoo's Nest (1975)   \n",
       "1         661       1        James and the Giant Peach (1996)   \n",
       "2         914       2                     My Fair Lady (1964)   \n",
       "3        3408       3                  Erin Brockovich (2000)   \n",
       "4        2355       4                    Bug's Life, A (1998)   \n",
       "\n",
       "                          genre  \n",
       "0                         Drama  \n",
       "1  Animation|Children's|Musical  \n",
       "2               Musical|Romance  \n",
       "3                         Drama  \n",
       "4   Animation|Children's|Comedy  "
      ]
     },
     "execution_count": 5,
     "metadata": {},
     "output_type": "execute_result"
    }
   ],
   "source": [
    "movies.head()"
   ]
  },
  {
   "cell_type": "code",
   "execution_count": 6,
   "id": "acknowledged-sociology",
   "metadata": {},
   "outputs": [
    {
     "data": {
      "text/html": [
       "<div>\n",
       "<style scoped>\n",
       "    .dataframe tbody tr th:only-of-type {\n",
       "        vertical-align: middle;\n",
       "    }\n",
       "\n",
       "    .dataframe tbody tr th {\n",
       "        vertical-align: top;\n",
       "    }\n",
       "\n",
       "    .dataframe thead th {\n",
       "        text-align: right;\n",
       "    }\n",
       "</style>\n",
       "<table border=\"1\" class=\"dataframe\">\n",
       "  <thead>\n",
       "    <tr style=\"text-align: right;\">\n",
       "      <th></th>\n",
       "      <th>origin_uid</th>\n",
       "      <th>origin_iid</th>\n",
       "      <th>rating</th>\n",
       "      <th>timestamp</th>\n",
       "      <th>userId</th>\n",
       "      <th>itemId</th>\n",
       "    </tr>\n",
       "  </thead>\n",
       "  <tbody>\n",
       "    <tr>\n",
       "      <th>0</th>\n",
       "      <td>1</td>\n",
       "      <td>1193</td>\n",
       "      <td>5</td>\n",
       "      <td>978300760</td>\n",
       "      <td>0</td>\n",
       "      <td>0</td>\n",
       "    </tr>\n",
       "    <tr>\n",
       "      <th>1</th>\n",
       "      <td>1</td>\n",
       "      <td>661</td>\n",
       "      <td>3</td>\n",
       "      <td>978302109</td>\n",
       "      <td>0</td>\n",
       "      <td>1</td>\n",
       "    </tr>\n",
       "    <tr>\n",
       "      <th>2</th>\n",
       "      <td>1</td>\n",
       "      <td>914</td>\n",
       "      <td>3</td>\n",
       "      <td>978301968</td>\n",
       "      <td>0</td>\n",
       "      <td>2</td>\n",
       "    </tr>\n",
       "    <tr>\n",
       "      <th>3</th>\n",
       "      <td>1</td>\n",
       "      <td>3408</td>\n",
       "      <td>4</td>\n",
       "      <td>978300275</td>\n",
       "      <td>0</td>\n",
       "      <td>3</td>\n",
       "    </tr>\n",
       "    <tr>\n",
       "      <th>4</th>\n",
       "      <td>1</td>\n",
       "      <td>2355</td>\n",
       "      <td>5</td>\n",
       "      <td>978824291</td>\n",
       "      <td>0</td>\n",
       "      <td>4</td>\n",
       "    </tr>\n",
       "  </tbody>\n",
       "</table>\n",
       "</div>"
      ],
      "text/plain": [
       "   origin_uid  origin_iid  rating  timestamp  userId  itemId\n",
       "0           1        1193       5  978300760       0       0\n",
       "1           1         661       3  978302109       0       1\n",
       "2           1         914       3  978301968       0       2\n",
       "3           1        3408       4  978300275       0       3\n",
       "4           1        2355       5  978824291       0       4"
      ]
     },
     "execution_count": 6,
     "metadata": {},
     "output_type": "execute_result"
    }
   ],
   "source": [
    "ratings.head()"
   ]
  },
  {
   "cell_type": "code",
   "execution_count": 7,
   "id": "proof-preliminary",
   "metadata": {},
   "outputs": [
    {
     "data": {
      "text/plain": [
       "[['Drama', 1493],\n",
       " ['Comedy', 1163],\n",
       " ['Action', 495],\n",
       " ['Thriller', 485],\n",
       " ['Romance', 459]]"
      ]
     },
     "execution_count": 7,
     "metadata": {},
     "output_type": "execute_result"
    }
   ],
   "source": [
    "genre_labels = set()\n",
    "for s in movies['genre'].str.split('|').values:\n",
    "    genre_labels = genre_labels.union(set(s))\n",
    "\n",
    "# Function that counts the number of times each of the genre keywords appear\n",
    "def count_word(dataset, ref_col, census):\n",
    "    keyword_count = dict()\n",
    "    for s in census: \n",
    "        keyword_count[s] = 0\n",
    "    for census_keywords in dataset[ref_col].str.split('|'):        \n",
    "        if type(census_keywords) == float and pd.isnull(census_keywords): \n",
    "            continue        \n",
    "        for s in [s for s in census_keywords if s in census]: \n",
    "            if pd.notnull(s): \n",
    "                keyword_count[s] += 1\n",
    "    #______________________________________________________________________\n",
    "    # convert the dictionary in a list to sort the keywords by frequency\n",
    "    keyword_occurences = []\n",
    "    for k,v in keyword_count.items():\n",
    "        keyword_occurences.append([k,v])\n",
    "    keyword_occurences.sort(key = lambda x:x[1], reverse = True)\n",
    "    return keyword_occurences, keyword_count\n",
    "\n",
    "# Calling this function gives access to a list of genre keywords which are sorted by decreasing frequency\n",
    "keyword_occurences, dum = count_word(movies, 'genre', genre_labels)\n",
    "keyword_occurences[:5]"
   ]
  },
  {
   "cell_type": "code",
   "execution_count": 8,
   "id": "relevant-clark",
   "metadata": {},
   "outputs": [],
   "source": [
    "# Break up the big genre string into a string array\n",
    "movies['genre'] = movies['genre'].str.split('|')\n",
    "# Convert genres to string value\n",
    "movies['genre'] = movies['genre'].fillna(\"\").astype('str')"
   ]
  },
  {
   "cell_type": "code",
   "execution_count": 9,
   "id": "excessive-prerequisite",
   "metadata": {},
   "outputs": [
    {
     "data": {
      "text/html": [
       "<div>\n",
       "<style scoped>\n",
       "    .dataframe tbody tr th:only-of-type {\n",
       "        vertical-align: middle;\n",
       "    }\n",
       "\n",
       "    .dataframe tbody tr th {\n",
       "        vertical-align: top;\n",
       "    }\n",
       "\n",
       "    .dataframe thead th {\n",
       "        text-align: right;\n",
       "    }\n",
       "</style>\n",
       "<table border=\"1\" class=\"dataframe\">\n",
       "  <thead>\n",
       "    <tr style=\"text-align: right;\">\n",
       "      <th></th>\n",
       "      <th>origin_iid</th>\n",
       "      <th>itemId</th>\n",
       "      <th>title</th>\n",
       "      <th>genre</th>\n",
       "    </tr>\n",
       "  </thead>\n",
       "  <tbody>\n",
       "    <tr>\n",
       "      <th>0</th>\n",
       "      <td>1193</td>\n",
       "      <td>0</td>\n",
       "      <td>One Flew Over the Cuckoo's Nest (1975)</td>\n",
       "      <td>['Drama']</td>\n",
       "    </tr>\n",
       "    <tr>\n",
       "      <th>1</th>\n",
       "      <td>661</td>\n",
       "      <td>1</td>\n",
       "      <td>James and the Giant Peach (1996)</td>\n",
       "      <td>['Animation', \"Children's\", 'Musical']</td>\n",
       "    </tr>\n",
       "    <tr>\n",
       "      <th>2</th>\n",
       "      <td>914</td>\n",
       "      <td>2</td>\n",
       "      <td>My Fair Lady (1964)</td>\n",
       "      <td>['Musical', 'Romance']</td>\n",
       "    </tr>\n",
       "    <tr>\n",
       "      <th>3</th>\n",
       "      <td>3408</td>\n",
       "      <td>3</td>\n",
       "      <td>Erin Brockovich (2000)</td>\n",
       "      <td>['Drama']</td>\n",
       "    </tr>\n",
       "    <tr>\n",
       "      <th>4</th>\n",
       "      <td>2355</td>\n",
       "      <td>4</td>\n",
       "      <td>Bug's Life, A (1998)</td>\n",
       "      <td>['Animation', \"Children's\", 'Comedy']</td>\n",
       "    </tr>\n",
       "  </tbody>\n",
       "</table>\n",
       "</div>"
      ],
      "text/plain": [
       "   origin_iid  itemId                                   title  \\\n",
       "0        1193       0  One Flew Over the Cuckoo's Nest (1975)   \n",
       "1         661       1        James and the Giant Peach (1996)   \n",
       "2         914       2                     My Fair Lady (1964)   \n",
       "3        3408       3                  Erin Brockovich (2000)   \n",
       "4        2355       4                    Bug's Life, A (1998)   \n",
       "\n",
       "                                    genre  \n",
       "0                               ['Drama']  \n",
       "1  ['Animation', \"Children's\", 'Musical']  \n",
       "2                  ['Musical', 'Romance']  \n",
       "3                               ['Drama']  \n",
       "4   ['Animation', \"Children's\", 'Comedy']  "
      ]
     },
     "execution_count": 9,
     "metadata": {},
     "output_type": "execute_result"
    }
   ],
   "source": [
    "movies.head()"
   ]
  },
  {
   "cell_type": "code",
   "execution_count": 10,
   "id": "neither-pontiac",
   "metadata": {},
   "outputs": [
    {
     "data": {
      "text/plain": [
       "<3706x127 sparse matrix of type '<class 'numpy.float64'>'\n",
       "\twith 9314 stored elements in Compressed Sparse Row format>"
      ]
     },
     "execution_count": 10,
     "metadata": {},
     "output_type": "execute_result"
    }
   ],
   "source": [
    "from sklearn.feature_extraction.text import TfidfVectorizer\n",
    "tf = TfidfVectorizer(analyzer='word',ngram_range=(1, 2),min_df=0, stop_words='english')\n",
    "tfidf_matrix = tf.fit_transform(movies['genre']) #genres are the corpus\n",
    "tfidf_matrix"
   ]
  },
  {
   "cell_type": "code",
   "execution_count": 11,
   "id": "environmental-geometry",
   "metadata": {},
   "outputs": [
    {
     "data": {
      "text/plain": [
       "(3706, 127)"
      ]
     },
     "execution_count": 11,
     "metadata": {},
     "output_type": "execute_result"
    }
   ],
   "source": [
    "tfidf_matrix.shape"
   ]
  },
  {
   "cell_type": "code",
   "execution_count": 12,
   "id": "liked-investigation",
   "metadata": {},
   "outputs": [
    {
     "data": {
      "text/plain": [
       "array([[1.        , 0.        , 0.        , 1.        ],\n",
       "       [0.        , 1.        , 0.22773644, 0.        ],\n",
       "       [0.        , 0.22773644, 1.        , 0.        ],\n",
       "       [1.        , 0.        , 0.        , 1.        ]])"
      ]
     },
     "execution_count": 12,
     "metadata": {},
     "output_type": "execute_result"
    }
   ],
   "source": [
    "from sklearn.metrics.pairwise import linear_kernel\n",
    "cosine_sim = linear_kernel(tfidf_matrix, tfidf_matrix)\n",
    "cosine_sim[:4, :4]"
   ]
  },
  {
   "cell_type": "code",
   "execution_count": 13,
   "id": "casual-antenna",
   "metadata": {},
   "outputs": [],
   "source": [
    "# Build a 1-dimensional array with movie titles\n",
    "titles = movies['title']\n",
    "indices = pd.Series(movies.index, index=movies['title'])"
   ]
  },
  {
   "cell_type": "code",
   "execution_count": 14,
   "id": "ongoing-binary",
   "metadata": {},
   "outputs": [
    {
     "data": {
      "text/plain": [
       "title\n",
       "One Flew Over the Cuckoo's Nest (1975)            0\n",
       "James and the Giant Peach (1996)                  1\n",
       "My Fair Lady (1964)                               2\n",
       "Erin Brockovich (2000)                            3\n",
       "Bug's Life, A (1998)                              4\n",
       "                                               ... \n",
       "Modulations (1998)                             3701\n",
       "Broken Vessels (1998)                          3702\n",
       "White Boys (1999)                              3703\n",
       "One Little Indian (1973)                       3704\n",
       "Five Wives, Three Secretaries and Me (1998)    3705\n",
       "Length: 3706, dtype: int64"
      ]
     },
     "execution_count": 14,
     "metadata": {},
     "output_type": "execute_result"
    }
   ],
   "source": [
    "indices"
   ]
  },
  {
   "cell_type": "code",
   "execution_count": 15,
   "id": "after-alexandria",
   "metadata": {},
   "outputs": [],
   "source": [
    "#list(enumerate(cosine_sim[27]))\n",
    "#sim_score = list(enumerate(cosine_sim[27])) #Titanic\n",
    "#sim_score = sorted(sim_score, key=lambda x: x[1], reverse=True)\n",
    "#sim_score = sim_score[1:21]\n",
    "#movie_indices = [i[0] for i in sim_score]"
   ]
  },
  {
   "cell_type": "code",
   "execution_count": 16,
   "id": "dying-strain",
   "metadata": {},
   "outputs": [],
   "source": [
    "#titles.iloc[movie_indices]"
   ]
  },
  {
   "cell_type": "code",
   "execution_count": 17,
   "id": "silver-tomato",
   "metadata": {},
   "outputs": [],
   "source": [
    "# Function that get movie recommendations based on the cosine similarity score of movie genres\n",
    "def genre_recommendations(title):\n",
    "    idx = indices[title]\n",
    "    sim_scores = list(enumerate(cosine_sim[idx]))\n",
    "    sim_scores = sorted(sim_scores, key=lambda x: x[1], reverse=True)\n",
    "    sim_scores = sim_scores[1:21]\n",
    "    movie_indices = [i[0] for i in sim_scores]\n",
    "    return titles.iloc[movie_indices]"
   ]
  },
  {
   "cell_type": "code",
   "execution_count": 18,
   "id": "criminal-planner",
   "metadata": {},
   "outputs": [],
   "source": [
    "#result = genre_recommendations('Titanic (1997)').head(10)"
   ]
  },
  {
   "cell_type": "code",
   "execution_count": 19,
   "id": "spare-narrow",
   "metadata": {},
   "outputs": [],
   "source": [
    "#result"
   ]
  },
  {
   "cell_type": "code",
   "execution_count": 20,
   "id": "alert-generic",
   "metadata": {},
   "outputs": [],
   "source": [
    "#recommendations_df = pd.DataFrame(result)"
   ]
  },
  {
   "cell_type": "code",
   "execution_count": 21,
   "id": "compact-fancy",
   "metadata": {
    "scrolled": true
   },
   "outputs": [],
   "source": [
    "#recommendations_df"
   ]
  },
  {
   "cell_type": "code",
   "execution_count": 22,
   "id": "heated-parallel",
   "metadata": {},
   "outputs": [],
   "source": [
    "#recommendations_array = np.asarray(recommendations)"
   ]
  },
  {
   "cell_type": "code",
   "execution_count": 23,
   "id": "twenty-father",
   "metadata": {},
   "outputs": [],
   "source": [
    "#recommendations_array "
   ]
  },
  {
   "cell_type": "markdown",
   "id": "banner-opposition",
   "metadata": {},
   "source": [
    "# Getting user ratings in an array"
   ]
  },
  {
   "cell_type": "code",
   "execution_count": 24,
   "id": "chubby-ethiopia",
   "metadata": {},
   "outputs": [],
   "source": [
    "#usersList = ratings.groupby(by='userId')"
   ]
  },
  {
   "cell_type": "code",
   "execution_count": 25,
   "id": "found-jersey",
   "metadata": {},
   "outputs": [],
   "source": [
    "#user_ratings = usersList.get_group(7).itemId.values #give it userID"
   ]
  },
  {
   "cell_type": "code",
   "execution_count": 26,
   "id": "infinite-gallery",
   "metadata": {},
   "outputs": [],
   "source": [
    "#user_ratings"
   ]
  },
  {
   "cell_type": "code",
   "execution_count": 27,
   "id": "closing-kruger",
   "metadata": {},
   "outputs": [],
   "source": [
    "#len(user_ratings)"
   ]
  },
  {
   "cell_type": "code",
   "execution_count": 28,
   "id": "vulnerable-separate",
   "metadata": {},
   "outputs": [],
   "source": [
    "#user_ratings_df = ratings.query(\"userId == 7\")"
   ]
  },
  {
   "cell_type": "code",
   "execution_count": 29,
   "id": "expired-premium",
   "metadata": {},
   "outputs": [],
   "source": [
    "#user_ratings_df"
   ]
  },
  {
   "cell_type": "markdown",
   "id": "stuffed-colleague",
   "metadata": {},
   "source": [
    "# Getting similar items"
   ]
  },
  {
   "cell_type": "code",
   "execution_count": 30,
   "id": "coordinated-colonial",
   "metadata": {},
   "outputs": [],
   "source": [
    "#knn_items_dict = {}"
   ]
  },
  {
   "cell_type": "code",
   "execution_count": 31,
   "id": "differential-centre",
   "metadata": {},
   "outputs": [],
   "source": [
    "#num_items = int(ratings[['itemId']].nunique())\n",
    "#num_users = int(ratings[['userId']].nunique())"
   ]
  },
  {
   "cell_type": "code",
   "execution_count": 32,
   "id": "governmental-genre",
   "metadata": {},
   "outputs": [],
   "source": [
    "#generating knn items dict for all movies\n",
    "#ds = np.zeros((num_items, num_users))\n",
    "#ds[ratings.itemId, ratings.userId] = ratings.rating\n",
    "#ds = sparse.csr_matrix(ds)\n",
    "#sim_matrix = cosine_similarity(ds)\n",
    "#min_val = sim_matrix.min() - 1\n",
    "\n",
    "#for i in range(num_items):\n",
    "#            sim_matrix[i, i] = min_val\n",
    "#            knn_to_item_i = (-sim_matrix[i, :]).argsort()[:10]\n",
    "#            knn_items_dict[i] = knn_to_item_i"
   ]
  },
  {
   "cell_type": "markdown",
   "id": "american-johns",
   "metadata": {},
   "source": [
    "# looping to get explnations for all recommendations"
   ]
  },
  {
   "cell_type": "code",
   "execution_count": 33,
   "id": "spread-design",
   "metadata": {},
   "outputs": [],
   "source": [
    "#explanations = []\n",
    "#for x in recommendations_array:\n",
    "#    title = x[0]\n",
    "#    recommendedMovie = movies.loc[movies.title == title]\n",
    "#    #print(recommendedMovie)\n",
    "#    #print(recommendedMovie.origin_iid)\n",
    "#    rec_Origin_id = int(recommendedMovie.origin_iid)\n",
    "#    sim_items = knn_items_dict[rec_Origin_id]\n",
    "#    #print(sim_items)\n",
    "#    explanation =  set(sim_items) & set(user_ratings)\n",
    "#    #print(explanation)\n",
    "#    explanations.append(explanation)\n",
    "#print(explanations)\n",
    "#recommendations_df['explanations'] = explanations"
   ]
  },
  {
   "cell_type": "code",
   "execution_count": null,
   "id": "protective-bolivia",
   "metadata": {},
   "outputs": [],
   "source": []
  },
  {
   "cell_type": "markdown",
   "id": "mechanical-today",
   "metadata": {},
   "source": [
    "# Getting similar items"
   ]
  },
  {
   "cell_type": "code",
   "execution_count": 34,
   "id": "split-while",
   "metadata": {},
   "outputs": [],
   "source": [
    "#knn_items_dict = {}"
   ]
  },
  {
   "cell_type": "code",
   "execution_count": 35,
   "id": "blond-edward",
   "metadata": {},
   "outputs": [],
   "source": [
    "#num_items = int(ratings[['itemId']].nunique())\n",
    "#num_users = int(ratings[['userId']].nunique())"
   ]
  },
  {
   "cell_type": "code",
   "execution_count": 36,
   "id": "synthetic-prayer",
   "metadata": {},
   "outputs": [],
   "source": [
    "#generating knn items dict for all movies\n",
    "#ds = np.zeros((num_items, num_users))\n",
    "#ds[ratings.itemId, ratings.userId] = ratings.rating\n",
    "#ds = sparse.csr_matrix(ds)\n",
    "#sim_matrix = cosine_similarity(ds)\n",
    "#min_val = sim_matrix.min() - 1\n",
    "\n",
    "#for i in range(num_items):\n",
    "#            sim_matrix[i, i] = min_val\n",
    "#            knn_to_item_i = (-sim_matrix[i, :]).argsort()[:10]\n",
    "#            knn_items_dict[i] = knn_to_item_i"
   ]
  },
  {
   "cell_type": "code",
   "execution_count": 37,
   "id": "ancient-harvest",
   "metadata": {
    "scrolled": true
   },
   "outputs": [],
   "source": [
    "#recommendations_df"
   ]
  },
  {
   "cell_type": "markdown",
   "id": "common-harmony",
   "metadata": {},
   "source": [
    "# Evaluating model fidelity per one user"
   ]
  },
  {
   "cell_type": "code",
   "execution_count": 38,
   "id": "associate-shelf",
   "metadata": {},
   "outputs": [],
   "source": [
    "#expl = recommendations_df[[len(x) > 0 for x in recommendations_df.explanations]]\n",
    "#fidelity = expl['title'].count()/10"
   ]
  },
  {
   "cell_type": "code",
   "execution_count": 39,
   "id": "fresh-serum",
   "metadata": {},
   "outputs": [],
   "source": [
    "#fidelity"
   ]
  },
  {
   "cell_type": "markdown",
   "id": "vital-evanescence",
   "metadata": {},
   "source": [
    "# Setting up test example and getting id's"
   ]
  },
  {
   "cell_type": "code",
   "execution_count": 40,
   "id": "restricted-finnish",
   "metadata": {},
   "outputs": [],
   "source": [
    "#movies.query(\"title == 'Titanic (1997)'\")"
   ]
  },
  {
   "cell_type": "code",
   "execution_count": 41,
   "id": "supposed-length",
   "metadata": {},
   "outputs": [],
   "source": [
    "#usersWhoLikeTitanic = ratings.query(\"itemId == 27\")"
   ]
  },
  {
   "cell_type": "code",
   "execution_count": 42,
   "id": "another-pitch",
   "metadata": {},
   "outputs": [],
   "source": [
    "#usersWhoLikeTitanic = usersWhoLikeTitanic.query(\"rating == 5\")"
   ]
  },
  {
   "cell_type": "code",
   "execution_count": 43,
   "id": "fitted-voluntary",
   "metadata": {},
   "outputs": [],
   "source": [
    "#usersWhoLikeTitanic #users who watched titanic and gave it 5 stars (389)"
   ]
  },
  {
   "cell_type": "markdown",
   "id": "hydraulic-knock",
   "metadata": {},
   "source": [
    "# Choose origin uid = 8 and userId = 7 and origin iid = 1721 and itemId = 27"
   ]
  },
  {
   "cell_type": "code",
   "execution_count": 44,
   "id": "threaded-breach",
   "metadata": {},
   "outputs": [],
   "source": [
    "#movies.query(\"title == 'Toy Story (1995)'\")"
   ]
  },
  {
   "cell_type": "code",
   "execution_count": 45,
   "id": "union-sigma",
   "metadata": {},
   "outputs": [],
   "source": [
    "#toyStoryRatings = ratings.query(\"origin_iid == 1\")"
   ]
  },
  {
   "cell_type": "code",
   "execution_count": 46,
   "id": "hundred-watch",
   "metadata": {},
   "outputs": [],
   "source": [
    "#toyStoryRatings = toyStoryRatings.query(\"rating == 5\")"
   ]
  },
  {
   "cell_type": "code",
   "execution_count": 47,
   "id": "connected-depth",
   "metadata": {},
   "outputs": [],
   "source": [
    "#toyStoryRatings"
   ]
  },
  {
   "cell_type": "markdown",
   "id": "binding-subscription",
   "metadata": {},
   "source": [
    "# Choose origin uid = 1 and userId = 0 and origin iid = 1 and itemId = 40"
   ]
  },
  {
   "cell_type": "markdown",
   "id": "industrial-mason",
   "metadata": {},
   "source": [
    "# Automation for all users"
   ]
  },
  {
   "cell_type": "code",
   "execution_count": 48,
   "id": "aware-fantasy",
   "metadata": {},
   "outputs": [],
   "source": [
    "moviesUsedForRecommendations = []\n",
    "usersList = ratings.groupby(by='userId')"
   ]
  },
  {
   "cell_type": "code",
   "execution_count": 49,
   "id": "separated-heaven",
   "metadata": {},
   "outputs": [],
   "source": [
    "#for loop to fill moviesUsedForRecommendations with the movie that will be used for each user to recommend with\n",
    "for x in range(0, 6040):\n",
    "    allUserRatings = pd.DataFrame(usersList.get_group(x))\n",
    "    allUserRatings = allUserRatings.sort_values(['rating'], ascending=[False])\n",
    "#    allUserRatings = allUserRatings.query(\"rating >= 4\")\n",
    "    itemUsedForRecommendation = allUserRatings.head(1)\n",
    "    moviesUsedForRecommendations.append(itemUsedForRecommendation)"
   ]
  },
  {
   "cell_type": "code",
   "execution_count": 50,
   "id": "trying-purpose",
   "metadata": {},
   "outputs": [],
   "source": [
    "#moviesUsedForRecommendations[3597]"
   ]
  },
  {
   "cell_type": "code",
   "execution_count": 51,
   "id": "native-chinese",
   "metadata": {},
   "outputs": [],
   "source": [
    "#movieName = movies.loc[2560].title\n",
    "#print(movieName)\n",
    "#result = genre_recommendations(movieName).head(10)\n",
    "#print(result)"
   ]
  },
  {
   "cell_type": "code",
   "execution_count": 52,
   "id": "undefined-fitness",
   "metadata": {},
   "outputs": [],
   "source": [
    "#loop on moviesUsedForRecommendations and recommend for each user 10 movies & explain\n",
    "ids = []\n",
    "recommendations = []\n",
    "for x in range (0,6040):\n",
    "#    print(x)\n",
    "    userId = x\n",
    "    movieId = int(moviesUsedForRecommendations[x].itemId)\n",
    "#    print(movieId)\n",
    "    movieName = movies.loc[movieId].title\n",
    "#    print(movieName)\n",
    "    result = genre_recommendations(movieName).head(10)\n",
    "#    print(result)\n",
    "    recommendations_df = pd.DataFrame(result)\n",
    "#    print(recommendations_df)\n",
    "    recommendations_array = np.asarray(recommendations_df)\n",
    "#    print(recommendations_array)\n",
    "    for i in range (len(recommendations_array)):\n",
    "        ids.append(x)\n",
    "        recommendations.append(recommendations_array[i])\n",
    "allUsersRecommendations_df = pd.DataFrame(list(zip(ids, recommendations)),\n",
    "            columns =['userId', 'movie'])"
   ]
  },
  {
   "cell_type": "code",
   "execution_count": 53,
   "id": "textile-functionality",
   "metadata": {},
   "outputs": [
    {
     "data": {
      "text/html": [
       "<div>\n",
       "<style scoped>\n",
       "    .dataframe tbody tr th:only-of-type {\n",
       "        vertical-align: middle;\n",
       "    }\n",
       "\n",
       "    .dataframe tbody tr th {\n",
       "        vertical-align: top;\n",
       "    }\n",
       "\n",
       "    .dataframe thead th {\n",
       "        text-align: right;\n",
       "    }\n",
       "</style>\n",
       "<table border=\"1\" class=\"dataframe\">\n",
       "  <thead>\n",
       "    <tr style=\"text-align: right;\">\n",
       "      <th></th>\n",
       "      <th>userId</th>\n",
       "      <th>movie</th>\n",
       "    </tr>\n",
       "  </thead>\n",
       "  <tbody>\n",
       "    <tr>\n",
       "      <th>0</th>\n",
       "      <td>0</td>\n",
       "      <td>[Erin Brockovich (2000)]</td>\n",
       "    </tr>\n",
       "    <tr>\n",
       "      <th>1</th>\n",
       "      <td>0</td>\n",
       "      <td>[Miracle on 34th Street (1947)]</td>\n",
       "    </tr>\n",
       "    <tr>\n",
       "      <th>2</th>\n",
       "      <td>0</td>\n",
       "      <td>[Awakenings (1990)]</td>\n",
       "    </tr>\n",
       "    <tr>\n",
       "      <th>3</th>\n",
       "      <td>0</td>\n",
       "      <td>[Ponette (1996)]</td>\n",
       "    </tr>\n",
       "    <tr>\n",
       "      <th>4</th>\n",
       "      <td>0</td>\n",
       "      <td>[Girl, Interrupted (1999)]</td>\n",
       "    </tr>\n",
       "    <tr>\n",
       "      <th>...</th>\n",
       "      <td>...</td>\n",
       "      <td>...</td>\n",
       "    </tr>\n",
       "    <tr>\n",
       "      <th>60395</th>\n",
       "      <td>6039</td>\n",
       "      <td>[Last Days of Disco, The (1998)]</td>\n",
       "    </tr>\n",
       "    <tr>\n",
       "      <th>60396</th>\n",
       "      <td>6039</td>\n",
       "      <td>[Apollo 13 (1995)]</td>\n",
       "    </tr>\n",
       "    <tr>\n",
       "      <th>60397</th>\n",
       "      <td>6039</td>\n",
       "      <td>[Rain Man (1988)]</td>\n",
       "    </tr>\n",
       "    <tr>\n",
       "      <th>60398</th>\n",
       "      <td>6039</td>\n",
       "      <td>[Driving Miss Daisy (1989)]</td>\n",
       "    </tr>\n",
       "    <tr>\n",
       "      <th>60399</th>\n",
       "      <td>6039</td>\n",
       "      <td>[To Kill a Mockingbird (1962)]</td>\n",
       "    </tr>\n",
       "  </tbody>\n",
       "</table>\n",
       "<p>60400 rows × 2 columns</p>\n",
       "</div>"
      ],
      "text/plain": [
       "       userId                             movie\n",
       "0           0          [Erin Brockovich (2000)]\n",
       "1           0   [Miracle on 34th Street (1947)]\n",
       "2           0               [Awakenings (1990)]\n",
       "3           0                  [Ponette (1996)]\n",
       "4           0        [Girl, Interrupted (1999)]\n",
       "...       ...                               ...\n",
       "60395    6039  [Last Days of Disco, The (1998)]\n",
       "60396    6039                [Apollo 13 (1995)]\n",
       "60397    6039                 [Rain Man (1988)]\n",
       "60398    6039       [Driving Miss Daisy (1989)]\n",
       "60399    6039    [To Kill a Mockingbird (1962)]\n",
       "\n",
       "[60400 rows x 2 columns]"
      ]
     },
     "execution_count": 53,
     "metadata": {},
     "output_type": "execute_result"
    }
   ],
   "source": [
    "allUsersRecommendations_df"
   ]
  },
  {
   "cell_type": "code",
   "execution_count": 54,
   "id": "agricultural-theorem",
   "metadata": {},
   "outputs": [
    {
     "data": {
      "text/plain": [
       "'Erin Brockovich (2000)'"
      ]
     },
     "execution_count": 54,
     "metadata": {},
     "output_type": "execute_result"
    }
   ],
   "source": [
    "recommendations[0][0]"
   ]
  },
  {
   "cell_type": "markdown",
   "id": "quick-sword",
   "metadata": {},
   "source": [
    "# Getting similar items"
   ]
  },
  {
   "cell_type": "code",
   "execution_count": 55,
   "id": "removable-canadian",
   "metadata": {},
   "outputs": [],
   "source": [
    "knn_items_dict = {}"
   ]
  },
  {
   "cell_type": "code",
   "execution_count": 56,
   "id": "micro-oracle",
   "metadata": {},
   "outputs": [],
   "source": [
    "num_items = int(ratings[['itemId']].nunique())\n",
    "num_users = int(ratings[['userId']].nunique())"
   ]
  },
  {
   "cell_type": "code",
   "execution_count": 57,
   "id": "responsible-robinson",
   "metadata": {},
   "outputs": [
    {
     "data": {
      "text/plain": [
       "3706"
      ]
     },
     "execution_count": 57,
     "metadata": {},
     "output_type": "execute_result"
    }
   ],
   "source": [
    "num_items"
   ]
  },
  {
   "cell_type": "code",
   "execution_count": 58,
   "id": "delayed-panic",
   "metadata": {},
   "outputs": [],
   "source": [
    "#generating knn items dict for all movies\n",
    "ds = np.zeros((num_items, num_users))\n",
    "ds[ratings.itemId, ratings.userId] = ratings.rating\n",
    "ds = sparse.csr_matrix(ds)\n",
    "sim_matrix = cosine_similarity(ds)\n",
    "min_val = sim_matrix.min() - 1\n",
    "\n",
    "for i in range(num_items):\n",
    "            sim_matrix[i, i] = min_val\n",
    "            knn_to_item_i = (-sim_matrix[i, :]).argsort()[:10]\n",
    "            knn_items_dict[i] = knn_to_item_i"
   ]
  },
  {
   "cell_type": "code",
   "execution_count": 59,
   "id": "banner-partner",
   "metadata": {},
   "outputs": [
    {
     "data": {
      "text/plain": [
       "(3706, 3706)"
      ]
     },
     "execution_count": 59,
     "metadata": {},
     "output_type": "execute_result"
    }
   ],
   "source": [
    "sim_matrix.shape"
   ]
  },
  {
   "cell_type": "code",
   "execution_count": 60,
   "id": "portuguese-merchant",
   "metadata": {},
   "outputs": [
    {
     "data": {
      "text/html": [
       "<div>\n",
       "<style scoped>\n",
       "    .dataframe tbody tr th:only-of-type {\n",
       "        vertical-align: middle;\n",
       "    }\n",
       "\n",
       "    .dataframe tbody tr th {\n",
       "        vertical-align: top;\n",
       "    }\n",
       "\n",
       "    .dataframe thead th {\n",
       "        text-align: right;\n",
       "    }\n",
       "</style>\n",
       "<table border=\"1\" class=\"dataframe\">\n",
       "  <thead>\n",
       "    <tr style=\"text-align: right;\">\n",
       "      <th></th>\n",
       "      <th>origin_iid</th>\n",
       "      <th>itemId</th>\n",
       "      <th>title</th>\n",
       "      <th>genre</th>\n",
       "    </tr>\n",
       "  </thead>\n",
       "  <tbody>\n",
       "    <tr>\n",
       "      <th>3</th>\n",
       "      <td>3408</td>\n",
       "      <td>3</td>\n",
       "      <td>Erin Brockovich (2000)</td>\n",
       "      <td>['Drama']</td>\n",
       "    </tr>\n",
       "  </tbody>\n",
       "</table>\n",
       "</div>"
      ],
      "text/plain": [
       "   origin_iid  itemId                   title      genre\n",
       "3        3408       3  Erin Brockovich (2000)  ['Drama']"
      ]
     },
     "execution_count": 60,
     "metadata": {},
     "output_type": "execute_result"
    }
   ],
   "source": [
    "movies.query('title == \"Erin Brockovich (2000)\"')"
   ]
  },
  {
   "cell_type": "code",
   "execution_count": 61,
   "id": "normal-adaptation",
   "metadata": {},
   "outputs": [
    {
     "data": {
      "text/plain": [
       "array([ 68, 104,  38, 134, 305, 541, 444, 499, 406, 519])"
      ]
     },
     "execution_count": 61,
     "metadata": {},
     "output_type": "execute_result"
    }
   ],
   "source": [
    "knn_items_dict[3]"
   ]
  },
  {
   "cell_type": "code",
   "execution_count": 62,
   "id": "intimate-dayton",
   "metadata": {},
   "outputs": [
    {
     "data": {
      "text/html": [
       "<div>\n",
       "<style scoped>\n",
       "    .dataframe tbody tr th:only-of-type {\n",
       "        vertical-align: middle;\n",
       "    }\n",
       "\n",
       "    .dataframe tbody tr th {\n",
       "        vertical-align: top;\n",
       "    }\n",
       "\n",
       "    .dataframe thead th {\n",
       "        text-align: right;\n",
       "    }\n",
       "</style>\n",
       "<table border=\"1\" class=\"dataframe\">\n",
       "  <thead>\n",
       "    <tr style=\"text-align: right;\">\n",
       "      <th></th>\n",
       "      <th>origin_iid</th>\n",
       "      <th>itemId</th>\n",
       "      <th>title</th>\n",
       "      <th>genre</th>\n",
       "    </tr>\n",
       "  </thead>\n",
       "  <tbody>\n",
       "    <tr>\n",
       "      <th>38</th>\n",
       "      <td>2762</td>\n",
       "      <td>38</td>\n",
       "      <td>Sixth Sense, The (1999)</td>\n",
       "      <td>['Thriller']</td>\n",
       "    </tr>\n",
       "  </tbody>\n",
       "</table>\n",
       "</div>"
      ],
      "text/plain": [
       "    origin_iid  itemId                    title         genre\n",
       "38        2762      38  Sixth Sense, The (1999)  ['Thriller']"
      ]
     },
     "execution_count": 62,
     "metadata": {},
     "output_type": "execute_result"
    }
   ],
   "source": [
    "movies.query('itemId == 38')"
   ]
  },
  {
   "cell_type": "code",
   "execution_count": 63,
   "id": "charged-alabama",
   "metadata": {
    "scrolled": true
   },
   "outputs": [
    {
     "data": {
      "text/html": [
       "<div>\n",
       "<style scoped>\n",
       "    .dataframe tbody tr th:only-of-type {\n",
       "        vertical-align: middle;\n",
       "    }\n",
       "\n",
       "    .dataframe tbody tr th {\n",
       "        vertical-align: top;\n",
       "    }\n",
       "\n",
       "    .dataframe thead th {\n",
       "        text-align: right;\n",
       "    }\n",
       "</style>\n",
       "<table border=\"1\" class=\"dataframe\">\n",
       "  <thead>\n",
       "    <tr style=\"text-align: right;\">\n",
       "      <th></th>\n",
       "      <th>origin_uid</th>\n",
       "      <th>origin_iid</th>\n",
       "      <th>rating</th>\n",
       "      <th>timestamp</th>\n",
       "      <th>userId</th>\n",
       "      <th>itemId</th>\n",
       "    </tr>\n",
       "  </thead>\n",
       "  <tbody>\n",
       "    <tr>\n",
       "      <th>0</th>\n",
       "      <td>1</td>\n",
       "      <td>1193</td>\n",
       "      <td>5</td>\n",
       "      <td>978300760</td>\n",
       "      <td>0</td>\n",
       "      <td>0</td>\n",
       "    </tr>\n",
       "    <tr>\n",
       "      <th>1</th>\n",
       "      <td>1</td>\n",
       "      <td>661</td>\n",
       "      <td>3</td>\n",
       "      <td>978302109</td>\n",
       "      <td>0</td>\n",
       "      <td>1</td>\n",
       "    </tr>\n",
       "    <tr>\n",
       "      <th>2</th>\n",
       "      <td>1</td>\n",
       "      <td>914</td>\n",
       "      <td>3</td>\n",
       "      <td>978301968</td>\n",
       "      <td>0</td>\n",
       "      <td>2</td>\n",
       "    </tr>\n",
       "    <tr>\n",
       "      <th>3</th>\n",
       "      <td>1</td>\n",
       "      <td>3408</td>\n",
       "      <td>4</td>\n",
       "      <td>978300275</td>\n",
       "      <td>0</td>\n",
       "      <td>3</td>\n",
       "    </tr>\n",
       "    <tr>\n",
       "      <th>4</th>\n",
       "      <td>1</td>\n",
       "      <td>2355</td>\n",
       "      <td>5</td>\n",
       "      <td>978824291</td>\n",
       "      <td>0</td>\n",
       "      <td>4</td>\n",
       "    </tr>\n",
       "    <tr>\n",
       "      <th>5</th>\n",
       "      <td>1</td>\n",
       "      <td>1197</td>\n",
       "      <td>3</td>\n",
       "      <td>978302268</td>\n",
       "      <td>0</td>\n",
       "      <td>5</td>\n",
       "    </tr>\n",
       "    <tr>\n",
       "      <th>6</th>\n",
       "      <td>1</td>\n",
       "      <td>1287</td>\n",
       "      <td>5</td>\n",
       "      <td>978302039</td>\n",
       "      <td>0</td>\n",
       "      <td>6</td>\n",
       "    </tr>\n",
       "    <tr>\n",
       "      <th>7</th>\n",
       "      <td>1</td>\n",
       "      <td>2804</td>\n",
       "      <td>5</td>\n",
       "      <td>978300719</td>\n",
       "      <td>0</td>\n",
       "      <td>7</td>\n",
       "    </tr>\n",
       "    <tr>\n",
       "      <th>8</th>\n",
       "      <td>1</td>\n",
       "      <td>594</td>\n",
       "      <td>4</td>\n",
       "      <td>978302268</td>\n",
       "      <td>0</td>\n",
       "      <td>8</td>\n",
       "    </tr>\n",
       "    <tr>\n",
       "      <th>9</th>\n",
       "      <td>1</td>\n",
       "      <td>919</td>\n",
       "      <td>4</td>\n",
       "      <td>978301368</td>\n",
       "      <td>0</td>\n",
       "      <td>9</td>\n",
       "    </tr>\n",
       "    <tr>\n",
       "      <th>10</th>\n",
       "      <td>1</td>\n",
       "      <td>595</td>\n",
       "      <td>5</td>\n",
       "      <td>978824268</td>\n",
       "      <td>0</td>\n",
       "      <td>10</td>\n",
       "    </tr>\n",
       "    <tr>\n",
       "      <th>11</th>\n",
       "      <td>1</td>\n",
       "      <td>938</td>\n",
       "      <td>4</td>\n",
       "      <td>978301752</td>\n",
       "      <td>0</td>\n",
       "      <td>11</td>\n",
       "    </tr>\n",
       "    <tr>\n",
       "      <th>12</th>\n",
       "      <td>1</td>\n",
       "      <td>2398</td>\n",
       "      <td>4</td>\n",
       "      <td>978302281</td>\n",
       "      <td>0</td>\n",
       "      <td>12</td>\n",
       "    </tr>\n",
       "    <tr>\n",
       "      <th>13</th>\n",
       "      <td>1</td>\n",
       "      <td>2918</td>\n",
       "      <td>4</td>\n",
       "      <td>978302124</td>\n",
       "      <td>0</td>\n",
       "      <td>13</td>\n",
       "    </tr>\n",
       "    <tr>\n",
       "      <th>14</th>\n",
       "      <td>1</td>\n",
       "      <td>1035</td>\n",
       "      <td>5</td>\n",
       "      <td>978301753</td>\n",
       "      <td>0</td>\n",
       "      <td>14</td>\n",
       "    </tr>\n",
       "    <tr>\n",
       "      <th>15</th>\n",
       "      <td>1</td>\n",
       "      <td>2791</td>\n",
       "      <td>4</td>\n",
       "      <td>978302188</td>\n",
       "      <td>0</td>\n",
       "      <td>15</td>\n",
       "    </tr>\n",
       "    <tr>\n",
       "      <th>16</th>\n",
       "      <td>1</td>\n",
       "      <td>2687</td>\n",
       "      <td>3</td>\n",
       "      <td>978824268</td>\n",
       "      <td>0</td>\n",
       "      <td>16</td>\n",
       "    </tr>\n",
       "    <tr>\n",
       "      <th>17</th>\n",
       "      <td>1</td>\n",
       "      <td>2018</td>\n",
       "      <td>4</td>\n",
       "      <td>978301777</td>\n",
       "      <td>0</td>\n",
       "      <td>17</td>\n",
       "    </tr>\n",
       "    <tr>\n",
       "      <th>18</th>\n",
       "      <td>1</td>\n",
       "      <td>3105</td>\n",
       "      <td>5</td>\n",
       "      <td>978301713</td>\n",
       "      <td>0</td>\n",
       "      <td>18</td>\n",
       "    </tr>\n",
       "    <tr>\n",
       "      <th>19</th>\n",
       "      <td>1</td>\n",
       "      <td>2797</td>\n",
       "      <td>4</td>\n",
       "      <td>978302039</td>\n",
       "      <td>0</td>\n",
       "      <td>19</td>\n",
       "    </tr>\n",
       "    <tr>\n",
       "      <th>20</th>\n",
       "      <td>1</td>\n",
       "      <td>2321</td>\n",
       "      <td>3</td>\n",
       "      <td>978302205</td>\n",
       "      <td>0</td>\n",
       "      <td>20</td>\n",
       "    </tr>\n",
       "    <tr>\n",
       "      <th>21</th>\n",
       "      <td>1</td>\n",
       "      <td>720</td>\n",
       "      <td>3</td>\n",
       "      <td>978300760</td>\n",
       "      <td>0</td>\n",
       "      <td>21</td>\n",
       "    </tr>\n",
       "    <tr>\n",
       "      <th>22</th>\n",
       "      <td>1</td>\n",
       "      <td>1270</td>\n",
       "      <td>5</td>\n",
       "      <td>978300055</td>\n",
       "      <td>0</td>\n",
       "      <td>22</td>\n",
       "    </tr>\n",
       "    <tr>\n",
       "      <th>23</th>\n",
       "      <td>1</td>\n",
       "      <td>527</td>\n",
       "      <td>5</td>\n",
       "      <td>978824195</td>\n",
       "      <td>0</td>\n",
       "      <td>23</td>\n",
       "    </tr>\n",
       "    <tr>\n",
       "      <th>24</th>\n",
       "      <td>1</td>\n",
       "      <td>2340</td>\n",
       "      <td>3</td>\n",
       "      <td>978300103</td>\n",
       "      <td>0</td>\n",
       "      <td>24</td>\n",
       "    </tr>\n",
       "    <tr>\n",
       "      <th>25</th>\n",
       "      <td>1</td>\n",
       "      <td>48</td>\n",
       "      <td>5</td>\n",
       "      <td>978824351</td>\n",
       "      <td>0</td>\n",
       "      <td>25</td>\n",
       "    </tr>\n",
       "    <tr>\n",
       "      <th>26</th>\n",
       "      <td>1</td>\n",
       "      <td>1097</td>\n",
       "      <td>4</td>\n",
       "      <td>978301953</td>\n",
       "      <td>0</td>\n",
       "      <td>26</td>\n",
       "    </tr>\n",
       "    <tr>\n",
       "      <th>27</th>\n",
       "      <td>1</td>\n",
       "      <td>1721</td>\n",
       "      <td>4</td>\n",
       "      <td>978300055</td>\n",
       "      <td>0</td>\n",
       "      <td>27</td>\n",
       "    </tr>\n",
       "    <tr>\n",
       "      <th>28</th>\n",
       "      <td>1</td>\n",
       "      <td>1545</td>\n",
       "      <td>4</td>\n",
       "      <td>978824139</td>\n",
       "      <td>0</td>\n",
       "      <td>28</td>\n",
       "    </tr>\n",
       "    <tr>\n",
       "      <th>29</th>\n",
       "      <td>1</td>\n",
       "      <td>745</td>\n",
       "      <td>3</td>\n",
       "      <td>978824268</td>\n",
       "      <td>0</td>\n",
       "      <td>29</td>\n",
       "    </tr>\n",
       "    <tr>\n",
       "      <th>30</th>\n",
       "      <td>1</td>\n",
       "      <td>2294</td>\n",
       "      <td>4</td>\n",
       "      <td>978824291</td>\n",
       "      <td>0</td>\n",
       "      <td>30</td>\n",
       "    </tr>\n",
       "    <tr>\n",
       "      <th>31</th>\n",
       "      <td>1</td>\n",
       "      <td>3186</td>\n",
       "      <td>4</td>\n",
       "      <td>978300019</td>\n",
       "      <td>0</td>\n",
       "      <td>31</td>\n",
       "    </tr>\n",
       "    <tr>\n",
       "      <th>32</th>\n",
       "      <td>1</td>\n",
       "      <td>1566</td>\n",
       "      <td>4</td>\n",
       "      <td>978824330</td>\n",
       "      <td>0</td>\n",
       "      <td>32</td>\n",
       "    </tr>\n",
       "    <tr>\n",
       "      <th>33</th>\n",
       "      <td>1</td>\n",
       "      <td>588</td>\n",
       "      <td>4</td>\n",
       "      <td>978824268</td>\n",
       "      <td>0</td>\n",
       "      <td>33</td>\n",
       "    </tr>\n",
       "    <tr>\n",
       "      <th>34</th>\n",
       "      <td>1</td>\n",
       "      <td>1907</td>\n",
       "      <td>4</td>\n",
       "      <td>978824330</td>\n",
       "      <td>0</td>\n",
       "      <td>34</td>\n",
       "    </tr>\n",
       "    <tr>\n",
       "      <th>35</th>\n",
       "      <td>1</td>\n",
       "      <td>783</td>\n",
       "      <td>4</td>\n",
       "      <td>978824291</td>\n",
       "      <td>0</td>\n",
       "      <td>35</td>\n",
       "    </tr>\n",
       "    <tr>\n",
       "      <th>36</th>\n",
       "      <td>1</td>\n",
       "      <td>1836</td>\n",
       "      <td>5</td>\n",
       "      <td>978300172</td>\n",
       "      <td>0</td>\n",
       "      <td>36</td>\n",
       "    </tr>\n",
       "    <tr>\n",
       "      <th>37</th>\n",
       "      <td>1</td>\n",
       "      <td>1022</td>\n",
       "      <td>5</td>\n",
       "      <td>978300055</td>\n",
       "      <td>0</td>\n",
       "      <td>37</td>\n",
       "    </tr>\n",
       "    <tr>\n",
       "      <th>38</th>\n",
       "      <td>1</td>\n",
       "      <td>2762</td>\n",
       "      <td>4</td>\n",
       "      <td>978302091</td>\n",
       "      <td>0</td>\n",
       "      <td>38</td>\n",
       "    </tr>\n",
       "    <tr>\n",
       "      <th>39</th>\n",
       "      <td>1</td>\n",
       "      <td>150</td>\n",
       "      <td>5</td>\n",
       "      <td>978301777</td>\n",
       "      <td>0</td>\n",
       "      <td>39</td>\n",
       "    </tr>\n",
       "    <tr>\n",
       "      <th>40</th>\n",
       "      <td>1</td>\n",
       "      <td>1</td>\n",
       "      <td>5</td>\n",
       "      <td>978824268</td>\n",
       "      <td>0</td>\n",
       "      <td>40</td>\n",
       "    </tr>\n",
       "    <tr>\n",
       "      <th>41</th>\n",
       "      <td>1</td>\n",
       "      <td>1961</td>\n",
       "      <td>5</td>\n",
       "      <td>978301590</td>\n",
       "      <td>0</td>\n",
       "      <td>41</td>\n",
       "    </tr>\n",
       "    <tr>\n",
       "      <th>42</th>\n",
       "      <td>1</td>\n",
       "      <td>1962</td>\n",
       "      <td>4</td>\n",
       "      <td>978301753</td>\n",
       "      <td>0</td>\n",
       "      <td>42</td>\n",
       "    </tr>\n",
       "    <tr>\n",
       "      <th>43</th>\n",
       "      <td>1</td>\n",
       "      <td>2692</td>\n",
       "      <td>4</td>\n",
       "      <td>978301570</td>\n",
       "      <td>0</td>\n",
       "      <td>43</td>\n",
       "    </tr>\n",
       "    <tr>\n",
       "      <th>44</th>\n",
       "      <td>1</td>\n",
       "      <td>260</td>\n",
       "      <td>4</td>\n",
       "      <td>978300760</td>\n",
       "      <td>0</td>\n",
       "      <td>44</td>\n",
       "    </tr>\n",
       "    <tr>\n",
       "      <th>45</th>\n",
       "      <td>1</td>\n",
       "      <td>1028</td>\n",
       "      <td>5</td>\n",
       "      <td>978301777</td>\n",
       "      <td>0</td>\n",
       "      <td>45</td>\n",
       "    </tr>\n",
       "    <tr>\n",
       "      <th>46</th>\n",
       "      <td>1</td>\n",
       "      <td>1029</td>\n",
       "      <td>5</td>\n",
       "      <td>978302205</td>\n",
       "      <td>0</td>\n",
       "      <td>46</td>\n",
       "    </tr>\n",
       "    <tr>\n",
       "      <th>47</th>\n",
       "      <td>1</td>\n",
       "      <td>1207</td>\n",
       "      <td>4</td>\n",
       "      <td>978300719</td>\n",
       "      <td>0</td>\n",
       "      <td>47</td>\n",
       "    </tr>\n",
       "    <tr>\n",
       "      <th>48</th>\n",
       "      <td>1</td>\n",
       "      <td>2028</td>\n",
       "      <td>5</td>\n",
       "      <td>978301619</td>\n",
       "      <td>0</td>\n",
       "      <td>48</td>\n",
       "    </tr>\n",
       "    <tr>\n",
       "      <th>49</th>\n",
       "      <td>1</td>\n",
       "      <td>531</td>\n",
       "      <td>4</td>\n",
       "      <td>978302149</td>\n",
       "      <td>0</td>\n",
       "      <td>49</td>\n",
       "    </tr>\n",
       "    <tr>\n",
       "      <th>50</th>\n",
       "      <td>1</td>\n",
       "      <td>3114</td>\n",
       "      <td>4</td>\n",
       "      <td>978302174</td>\n",
       "      <td>0</td>\n",
       "      <td>50</td>\n",
       "    </tr>\n",
       "    <tr>\n",
       "      <th>51</th>\n",
       "      <td>1</td>\n",
       "      <td>608</td>\n",
       "      <td>4</td>\n",
       "      <td>978301398</td>\n",
       "      <td>0</td>\n",
       "      <td>51</td>\n",
       "    </tr>\n",
       "    <tr>\n",
       "      <th>52</th>\n",
       "      <td>1</td>\n",
       "      <td>1246</td>\n",
       "      <td>4</td>\n",
       "      <td>978302091</td>\n",
       "      <td>0</td>\n",
       "      <td>52</td>\n",
       "    </tr>\n",
       "  </tbody>\n",
       "</table>\n",
       "</div>"
      ],
      "text/plain": [
       "    origin_uid  origin_iid  rating  timestamp  userId  itemId\n",
       "0            1        1193       5  978300760       0       0\n",
       "1            1         661       3  978302109       0       1\n",
       "2            1         914       3  978301968       0       2\n",
       "3            1        3408       4  978300275       0       3\n",
       "4            1        2355       5  978824291       0       4\n",
       "5            1        1197       3  978302268       0       5\n",
       "6            1        1287       5  978302039       0       6\n",
       "7            1        2804       5  978300719       0       7\n",
       "8            1         594       4  978302268       0       8\n",
       "9            1         919       4  978301368       0       9\n",
       "10           1         595       5  978824268       0      10\n",
       "11           1         938       4  978301752       0      11\n",
       "12           1        2398       4  978302281       0      12\n",
       "13           1        2918       4  978302124       0      13\n",
       "14           1        1035       5  978301753       0      14\n",
       "15           1        2791       4  978302188       0      15\n",
       "16           1        2687       3  978824268       0      16\n",
       "17           1        2018       4  978301777       0      17\n",
       "18           1        3105       5  978301713       0      18\n",
       "19           1        2797       4  978302039       0      19\n",
       "20           1        2321       3  978302205       0      20\n",
       "21           1         720       3  978300760       0      21\n",
       "22           1        1270       5  978300055       0      22\n",
       "23           1         527       5  978824195       0      23\n",
       "24           1        2340       3  978300103       0      24\n",
       "25           1          48       5  978824351       0      25\n",
       "26           1        1097       4  978301953       0      26\n",
       "27           1        1721       4  978300055       0      27\n",
       "28           1        1545       4  978824139       0      28\n",
       "29           1         745       3  978824268       0      29\n",
       "30           1        2294       4  978824291       0      30\n",
       "31           1        3186       4  978300019       0      31\n",
       "32           1        1566       4  978824330       0      32\n",
       "33           1         588       4  978824268       0      33\n",
       "34           1        1907       4  978824330       0      34\n",
       "35           1         783       4  978824291       0      35\n",
       "36           1        1836       5  978300172       0      36\n",
       "37           1        1022       5  978300055       0      37\n",
       "38           1        2762       4  978302091       0      38\n",
       "39           1         150       5  978301777       0      39\n",
       "40           1           1       5  978824268       0      40\n",
       "41           1        1961       5  978301590       0      41\n",
       "42           1        1962       4  978301753       0      42\n",
       "43           1        2692       4  978301570       0      43\n",
       "44           1         260       4  978300760       0      44\n",
       "45           1        1028       5  978301777       0      45\n",
       "46           1        1029       5  978302205       0      46\n",
       "47           1        1207       4  978300719       0      47\n",
       "48           1        2028       5  978301619       0      48\n",
       "49           1         531       4  978302149       0      49\n",
       "50           1        3114       4  978302174       0      50\n",
       "51           1         608       4  978301398       0      51\n",
       "52           1        1246       4  978302091       0      52"
      ]
     },
     "execution_count": 63,
     "metadata": {},
     "output_type": "execute_result"
    }
   ],
   "source": [
    "ratings.query('userId == 0')"
   ]
  },
  {
   "cell_type": "markdown",
   "id": "treated-isolation",
   "metadata": {},
   "source": [
    "# Getting user ratings in an array"
   ]
  },
  {
   "cell_type": "code",
   "execution_count": 64,
   "id": "amber-editor",
   "metadata": {},
   "outputs": [],
   "source": [
    "usersList = ratings.groupby(by='userId')\n",
    "pointer = 0\n",
    "explanations = []\n",
    "for x in range (0,6040):\n",
    "    user_ratings = usersList.get_group(x).itemId.values #give it userID\n",
    "    counter = 0\n",
    "    while counter < 10:\n",
    "        title = recommendations[pointer][0]\n",
    "        recommendedMovie = movies.loc[movies.title == title]\n",
    "        #print(recommendedMovie)\n",
    "        #rec_Origin_id = int(recommendedMovie.origin_iid)\n",
    "        rec_item_id = int(recommendedMovie.itemId)\n",
    "        #print(rec_item_id)\n",
    "        sim_items = knn_items_dict[rec_item_id]\n",
    "        explanation =  set(sim_items) & set(user_ratings)\n",
    "        explanations.append(explanation)\n",
    "        pointer = pointer + 1\n",
    "        counter = counter + 1\n",
    "allUsersRecommendations_df['explanations'] = explanations"
   ]
  },
  {
   "cell_type": "code",
   "execution_count": 65,
   "id": "assured-shame",
   "metadata": {},
   "outputs": [
    {
     "data": {
      "text/html": [
       "<div>\n",
       "<style scoped>\n",
       "    .dataframe tbody tr th:only-of-type {\n",
       "        vertical-align: middle;\n",
       "    }\n",
       "\n",
       "    .dataframe tbody tr th {\n",
       "        vertical-align: top;\n",
       "    }\n",
       "\n",
       "    .dataframe thead th {\n",
       "        text-align: right;\n",
       "    }\n",
       "</style>\n",
       "<table border=\"1\" class=\"dataframe\">\n",
       "  <thead>\n",
       "    <tr style=\"text-align: right;\">\n",
       "      <th></th>\n",
       "      <th>userId</th>\n",
       "      <th>movie</th>\n",
       "      <th>explanations</th>\n",
       "    </tr>\n",
       "  </thead>\n",
       "  <tbody>\n",
       "    <tr>\n",
       "      <th>0</th>\n",
       "      <td>0</td>\n",
       "      <td>[Erin Brockovich (2000)]</td>\n",
       "      <td>{38}</td>\n",
       "    </tr>\n",
       "    <tr>\n",
       "      <th>1</th>\n",
       "      <td>0</td>\n",
       "      <td>[Miracle on 34th Street (1947)]</td>\n",
       "      <td>{8, 9, 2, 42}</td>\n",
       "    </tr>\n",
       "    <tr>\n",
       "      <th>2</th>\n",
       "      <td>0</td>\n",
       "      <td>[Awakenings (1990)]</td>\n",
       "      <td>{52, 39}</td>\n",
       "    </tr>\n",
       "    <tr>\n",
       "      <th>3</th>\n",
       "      <td>0</td>\n",
       "      <td>[Ponette (1996)]</td>\n",
       "      <td>{}</td>\n",
       "    </tr>\n",
       "    <tr>\n",
       "      <th>4</th>\n",
       "      <td>0</td>\n",
       "      <td>[Girl, Interrupted (1999)]</td>\n",
       "      <td>{}</td>\n",
       "    </tr>\n",
       "    <tr>\n",
       "      <th>...</th>\n",
       "      <td>...</td>\n",
       "      <td>...</td>\n",
       "      <td>...</td>\n",
       "    </tr>\n",
       "    <tr>\n",
       "      <th>60395</th>\n",
       "      <td>6039</td>\n",
       "      <td>[Last Days of Disco, The (1998)]</td>\n",
       "      <td>{373, 2491, 284, 365}</td>\n",
       "    </tr>\n",
       "    <tr>\n",
       "      <th>60396</th>\n",
       "      <td>6039</td>\n",
       "      <td>[Apollo 13 (1995)]</td>\n",
       "      <td>{128, 164, 167, 520, 280}</td>\n",
       "    </tr>\n",
       "    <tr>\n",
       "      <th>60397</th>\n",
       "      <td>6039</td>\n",
       "      <td>[Rain Man (1988)]</td>\n",
       "      <td>{547, 105, 42, 52, 22, 26}</td>\n",
       "    </tr>\n",
       "    <tr>\n",
       "      <th>60398</th>\n",
       "      <td>6039</td>\n",
       "      <td>[Driving Miss Daisy (1989)]</td>\n",
       "      <td>{41, 428, 142, 1586, 52, 1049}</td>\n",
       "    </tr>\n",
       "    <tr>\n",
       "      <th>60399</th>\n",
       "      <td>6039</td>\n",
       "      <td>[To Kill a Mockingbird (1962)]</td>\n",
       "      <td>{0, 321, 1730, 420, 9, 105, 174, 661, 629, 669}</td>\n",
       "    </tr>\n",
       "  </tbody>\n",
       "</table>\n",
       "<p>60400 rows × 3 columns</p>\n",
       "</div>"
      ],
      "text/plain": [
       "       userId                             movie  \\\n",
       "0           0          [Erin Brockovich (2000)]   \n",
       "1           0   [Miracle on 34th Street (1947)]   \n",
       "2           0               [Awakenings (1990)]   \n",
       "3           0                  [Ponette (1996)]   \n",
       "4           0        [Girl, Interrupted (1999)]   \n",
       "...       ...                               ...   \n",
       "60395    6039  [Last Days of Disco, The (1998)]   \n",
       "60396    6039                [Apollo 13 (1995)]   \n",
       "60397    6039                 [Rain Man (1988)]   \n",
       "60398    6039       [Driving Miss Daisy (1989)]   \n",
       "60399    6039    [To Kill a Mockingbird (1962)]   \n",
       "\n",
       "                                          explanations  \n",
       "0                                                 {38}  \n",
       "1                                        {8, 9, 2, 42}  \n",
       "2                                             {52, 39}  \n",
       "3                                                   {}  \n",
       "4                                                   {}  \n",
       "...                                                ...  \n",
       "60395                            {373, 2491, 284, 365}  \n",
       "60396                        {128, 164, 167, 520, 280}  \n",
       "60397                       {547, 105, 42, 52, 22, 26}  \n",
       "60398                   {41, 428, 142, 1586, 52, 1049}  \n",
       "60399  {0, 321, 1730, 420, 9, 105, 174, 661, 629, 669}  \n",
       "\n",
       "[60400 rows x 3 columns]"
      ]
     },
     "execution_count": 65,
     "metadata": {},
     "output_type": "execute_result"
    }
   ],
   "source": [
    "allUsersRecommendations_df"
   ]
  },
  {
   "cell_type": "markdown",
   "id": "incomplete-monster",
   "metadata": {},
   "source": [
    "# Model Fidelity Calculation"
   ]
  },
  {
   "cell_type": "code",
   "execution_count": 66,
   "id": "understood-setting",
   "metadata": {},
   "outputs": [],
   "source": [
    "expl = allUsersRecommendations_df[[len(x) > 0 for x in allUsersRecommendations_df.explanations]]\n",
    "fidelity = expl.groupby('userId')['movie'].count() / 10\n",
    "modelFidelity = sum(fidelity)/6040"
   ]
  },
  {
   "cell_type": "code",
   "execution_count": 67,
   "id": "timely-newark",
   "metadata": {},
   "outputs": [
    {
     "data": {
      "text/plain": [
       "0.6083940397351044"
      ]
     },
     "execution_count": 67,
     "metadata": {},
     "output_type": "execute_result"
    }
   ],
   "source": [
    "modelFidelity"
   ]
  },
  {
   "cell_type": "code",
   "execution_count": null,
   "id": "enhanced-berlin",
   "metadata": {},
   "outputs": [],
   "source": []
  }
 ],
 "metadata": {
  "kernelspec": {
   "display_name": "Python 3",
   "language": "python",
   "name": "python3"
  },
  "language_info": {
   "codemirror_mode": {
    "name": "ipython",
    "version": 3
   },
   "file_extension": ".py",
   "mimetype": "text/x-python",
   "name": "python",
   "nbconvert_exporter": "python",
   "pygments_lexer": "ipython3",
   "version": "3.6.13"
  }
 },
 "nbformat": 4,
 "nbformat_minor": 5
}
