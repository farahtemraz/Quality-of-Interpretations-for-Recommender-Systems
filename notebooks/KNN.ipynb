{
 "cells": [
  {
   "cell_type": "code",
   "execution_count": 1,
   "id": "opened-andrew",
   "metadata": {},
   "outputs": [],
   "source": [
    "from recoxplainer.config import cfg\n",
    "from recoxplainer.data_reader.data_reader import DataReader\n",
    "from recoxplainer.models import GMFModel, ALS, EMFModel, BPR\n",
    "from recoxplainer.recommender import Recommender\n",
    "from recoxplainer.evaluator import Splitter, Evaluator\n",
    "from recoxplainer.explain import KNNPostHocExplainer \n",
    "from recoxplainer.evaluator import ExplanationEvaluator\n",
    "from recoxplainer.models.mlp_model import MLPModel\n",
    "import pandas as pd\n",
    "pd.options.mode.chained_assignment = None"
   ]
  },
  {
   "cell_type": "code",
   "execution_count": 2,
   "id": "accepted-numbers",
   "metadata": {},
   "outputs": [],
   "source": [
    "data = DataReader(**cfg.ml100k)\n",
    "data.make_consecutive_ids_in_dataset()\n",
    "data.binarize()\n",
    "sp = Splitter()\n",
    "train, test = sp.split_leave_n_out(data, frac=0.1)"
   ]
  },
  {
   "cell_type": "code",
   "execution_count": 3,
   "id": "satisfied-domain",
   "metadata": {},
   "outputs": [
    {
     "name": "stderr",
     "output_type": "stream",
     "text": [
      "WARNING:root:OpenBLAS detected. Its highly recommend to set the environment variable 'export OPENBLAS_NUM_THREADS=1' to disable its internal multithreading\n",
      "/Users/mac/opt/anaconda3/envs/recoxplainer/lib/python3.6/site-packages/scipy/sparse/_index.py:125: SparseEfficiencyWarning: Changing the sparsity structure of a csr_matrix is expensive. lil_matrix is more efficient.\n",
      "  self._set_arrayXarray(i, j, x)\n"
     ]
    },
    {
     "data": {
      "application/vnd.jupyter.widget-view+json": {
       "model_id": "18ad3419c61549918830cfcbe61f8f6d",
       "version_major": 2,
       "version_minor": 0
      },
      "text/plain": [
       "  0%|          | 0/10 [00:00<?, ?it/s]"
      ]
     },
     "metadata": {},
     "output_type": "display_data"
    },
    {
     "data": {
      "text/plain": [
       "True"
      ]
     },
     "execution_count": 3,
     "metadata": {},
     "output_type": "execute_result"
    }
   ],
   "source": [
    "als = ALS(**cfg.model.als)\n",
    "als.fit(data)"
   ]
  },
  {
   "cell_type": "code",
   "execution_count": 4,
   "id": "conservative-measurement",
   "metadata": {},
   "outputs": [
    {
     "data": {
      "application/vnd.jupyter.widget-view+json": {
       "model_id": "57e57d516380400287c61f78cde9a56a",
       "version_major": 2,
       "version_minor": 0
      },
      "text/plain": [
       "Recommending for users:   0%|          | 0/943 [00:00<?, ?it/s]"
      ]
     },
     "metadata": {},
     "output_type": "display_data"
    }
   ],
   "source": [
    "rec = Recommender(data, als)\n",
    "recommendations = rec.recommend_all()"
   ]
  },
  {
   "cell_type": "code",
   "execution_count": 5,
   "id": "abstract-clinic",
   "metadata": {},
   "outputs": [
    {
     "data": {
      "text/plain": [
       "<bound method NDFrame.head of      userId  itemId  rank\n",
       "161     0.0   166.0   1.0\n",
       "85      0.0    89.0   2.0\n",
       "387     0.0   404.0   3.0\n",
       "7       0.0     8.0   4.0\n",
       "240     0.0   247.0   5.0\n",
       "..      ...     ...   ...\n",
       "113   942.0   120.0   6.0\n",
       "46    942.0    49.0   7.0\n",
       "597   942.0   613.0   8.0\n",
       "514   942.0   530.0   9.0\n",
       "253   942.0   267.0  10.0\n",
       "\n",
       "[9430 rows x 3 columns]>"
      ]
     },
     "execution_count": 5,
     "metadata": {},
     "output_type": "execute_result"
    }
   ],
   "source": [
    "recommendations.head"
   ]
  },
  {
   "cell_type": "code",
   "execution_count": 6,
   "id": "representative-preliminary",
   "metadata": {},
   "outputs": [
    {
     "data": {
      "application/vnd.jupyter.widget-view+json": {
       "model_id": "1c126edad990482e8778767cc1284530",
       "version_major": 2,
       "version_minor": 0
      },
      "text/plain": [
       "Computing explanations:   0%|          | 0/9430 [00:00<?, ?it/s]"
      ]
     },
     "metadata": {},
     "output_type": "display_data"
    }
   ],
   "source": [
    "KNNexplainer = KNNPostHocExplainer(als, recommendations, data)\n",
    "KNNExpl = KNNexplainer.explain_recommendations()"
   ]
  },
  {
   "cell_type": "code",
   "execution_count": 7,
   "id": "catholic-criticism",
   "metadata": {},
   "outputs": [
    {
     "data": {
      "text/html": [
       "<div>\n",
       "<style scoped>\n",
       "    .dataframe tbody tr th:only-of-type {\n",
       "        vertical-align: middle;\n",
       "    }\n",
       "\n",
       "    .dataframe tbody tr th {\n",
       "        vertical-align: top;\n",
       "    }\n",
       "\n",
       "    .dataframe thead th {\n",
       "        text-align: right;\n",
       "    }\n",
       "</style>\n",
       "<table border=\"1\" class=\"dataframe\">\n",
       "  <thead>\n",
       "    <tr style=\"text-align: right;\">\n",
       "      <th></th>\n",
       "      <th>userId</th>\n",
       "      <th>itemId</th>\n",
       "      <th>rank</th>\n",
       "      <th>explanations</th>\n",
       "    </tr>\n",
       "  </thead>\n",
       "  <tbody>\n",
       "    <tr>\n",
       "      <th>161</th>\n",
       "      <td>0.0</td>\n",
       "      <td>166.0</td>\n",
       "      <td>1.0</td>\n",
       "      <td>{179, 423}</td>\n",
       "    </tr>\n",
       "    <tr>\n",
       "      <th>85</th>\n",
       "      <td>0.0</td>\n",
       "      <td>89.0</td>\n",
       "      <td>2.0</td>\n",
       "      <td>{665, 83, 86}</td>\n",
       "    </tr>\n",
       "    <tr>\n",
       "      <th>387</th>\n",
       "      <td>0.0</td>\n",
       "      <td>404.0</td>\n",
       "      <td>3.0</td>\n",
       "      <td>{289, 491, 751}</td>\n",
       "    </tr>\n",
       "    <tr>\n",
       "      <th>7</th>\n",
       "      <td>0.0</td>\n",
       "      <td>8.0</td>\n",
       "      <td>4.0</td>\n",
       "      <td>{528, 291, 179}</td>\n",
       "    </tr>\n",
       "    <tr>\n",
       "      <th>240</th>\n",
       "      <td>0.0</td>\n",
       "      <td>247.0</td>\n",
       "      <td>5.0</td>\n",
       "      <td>{179}</td>\n",
       "    </tr>\n",
       "    <tr>\n",
       "      <th>...</th>\n",
       "      <td>...</td>\n",
       "      <td>...</td>\n",
       "      <td>...</td>\n",
       "      <td>...</td>\n",
       "    </tr>\n",
       "    <tr>\n",
       "      <th>113</th>\n",
       "      <td>942.0</td>\n",
       "      <td>120.0</td>\n",
       "      <td>6.0</td>\n",
       "      <td>{24, 140}</td>\n",
       "    </tr>\n",
       "    <tr>\n",
       "      <th>46</th>\n",
       "      <td>942.0</td>\n",
       "      <td>49.0</td>\n",
       "      <td>7.0</td>\n",
       "      <td>{24, 209, 52}</td>\n",
       "    </tr>\n",
       "    <tr>\n",
       "      <th>597</th>\n",
       "      <td>942.0</td>\n",
       "      <td>613.0</td>\n",
       "      <td>8.0</td>\n",
       "      <td>{209, 140, 158}</td>\n",
       "    </tr>\n",
       "    <tr>\n",
       "      <th>514</th>\n",
       "      <td>942.0</td>\n",
       "      <td>530.0</td>\n",
       "      <td>9.0</td>\n",
       "      <td>{24, 140}</td>\n",
       "    </tr>\n",
       "    <tr>\n",
       "      <th>253</th>\n",
       "      <td>942.0</td>\n",
       "      <td>267.0</td>\n",
       "      <td>10.0</td>\n",
       "      <td>{140, 141, 614}</td>\n",
       "    </tr>\n",
       "  </tbody>\n",
       "</table>\n",
       "<p>9430 rows × 4 columns</p>\n",
       "</div>"
      ],
      "text/plain": [
       "     userId  itemId  rank     explanations\n",
       "161     0.0   166.0   1.0       {179, 423}\n",
       "85      0.0    89.0   2.0    {665, 83, 86}\n",
       "387     0.0   404.0   3.0  {289, 491, 751}\n",
       "7       0.0     8.0   4.0  {528, 291, 179}\n",
       "240     0.0   247.0   5.0            {179}\n",
       "..      ...     ...   ...              ...\n",
       "113   942.0   120.0   6.0        {24, 140}\n",
       "46    942.0    49.0   7.0    {24, 209, 52}\n",
       "597   942.0   613.0   8.0  {209, 140, 158}\n",
       "514   942.0   530.0   9.0        {24, 140}\n",
       "253   942.0   267.0  10.0  {140, 141, 614}\n",
       "\n",
       "[9430 rows x 4 columns]"
      ]
     },
     "execution_count": 7,
     "metadata": {},
     "output_type": "execute_result"
    }
   ],
   "source": [
    "KNNExpl"
   ]
  },
  {
   "cell_type": "code",
   "execution_count": 8,
   "id": "objective-librarian",
   "metadata": {},
   "outputs": [],
   "source": [
    "ex = ExplanationEvaluator(data.num_user)"
   ]
  },
  {
   "cell_type": "code",
   "execution_count": 9,
   "id": "backed-turner",
   "metadata": {},
   "outputs": [
    {
     "data": {
      "text/plain": [
       "0.9917285259809111"
      ]
     },
     "execution_count": 9,
     "metadata": {},
     "output_type": "execute_result"
    }
   ],
   "source": [
    "ex.model_fidelity(KNNExpl)"
   ]
  },
  {
   "cell_type": "code",
   "execution_count": null,
   "id": "russian-scenario",
   "metadata": {},
   "outputs": [],
   "source": []
  },
  {
   "cell_type": "code",
   "execution_count": null,
   "id": "alien-leader",
   "metadata": {},
   "outputs": [],
   "source": []
  }
 ],
 "metadata": {
  "kernelspec": {
   "display_name": "Python 3",
   "language": "python",
   "name": "python3"
  },
  "language_info": {
   "codemirror_mode": {
    "name": "ipython",
    "version": 3
   },
   "file_extension": ".py",
   "mimetype": "text/x-python",
   "name": "python",
   "nbconvert_exporter": "python",
   "pygments_lexer": "ipython3",
   "version": "3.6.13"
  }
 },
 "nbformat": 4,
 "nbformat_minor": 5
}
