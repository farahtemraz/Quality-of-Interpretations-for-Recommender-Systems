{
 "cells": [
  {
   "cell_type": "code",
   "execution_count": 114,
   "id": "binding-photographer",
   "metadata": {},
   "outputs": [],
   "source": [
    "import plotly.express as px\n",
    "from jupyter_dash import JupyterDash\n",
    "import dash_core_components as dcc\n",
    "import dash_html_components as html\n",
    "from dash.dependencies import Input, Output\n",
    "import pandas as pd\n",
    "pd.options.mode.chained_assignment = None\n",
    "import random\n",
    "\n",
    "from recoxplainer.config import cfg\n",
    "from recoxplainer.data_reader import DataReader \n",
    "from recoxplainer.models import ALS, EMFModel, GMFModel,BPR, PyTorchModel, ExplAutoencoderTorch\n",
    "from recoxplainer.models.mlp_model import MLPModel\n",
    "from recoxplainer.recommender import Recommender \n",
    "from recoxplainer.evaluator import Splitter, Evaluator\n",
    "from recoxplainer.explain import ALSExplainer\n",
    "from recoxplainer.evaluator import ExplanationEvaluator"
   ]
  },
  {
   "cell_type": "code",
   "execution_count": 115,
   "id": "exotic-treat",
   "metadata": {},
   "outputs": [],
   "source": [
    "data = DataReader(**cfg.ml100k)"
   ]
  },
  {
   "cell_type": "code",
   "execution_count": 116,
   "id": "behavioral-determination",
   "metadata": {},
   "outputs": [],
   "source": [
    "data.make_consecutive_ids_in_dataset()"
   ]
  },
  {
   "cell_type": "code",
   "execution_count": 117,
   "id": "minor-distribution",
   "metadata": {},
   "outputs": [],
   "source": [
    "data.binarize(binary_threshold=1)"
   ]
  },
  {
   "cell_type": "code",
   "execution_count": 118,
   "id": "hundred-thermal",
   "metadata": {},
   "outputs": [],
   "source": [
    "sp = Splitter()\n",
    "train, test = sp.split_leave_n_out(data, frac=0.1)"
   ]
  },
  {
   "cell_type": "markdown",
   "id": "proved-detection",
   "metadata": {},
   "source": [
    "# Testing ALS"
   ]
  },
  {
   "cell_type": "code",
   "execution_count": 121,
   "id": "sought-witness",
   "metadata": {},
   "outputs": [],
   "source": [
    "als = ALS(latent_dim=16, epochs=30 , reg_term= 0.005)"
   ]
  },
  {
   "cell_type": "code",
   "execution_count": 122,
   "id": "based-stream",
   "metadata": {},
   "outputs": [
    {
     "name": "stdout",
     "output_type": "stream",
     "text": [
      "0.005\n"
     ]
    }
   ],
   "source": [
    "print(als.reg_term)"
   ]
  },
  {
   "cell_type": "code",
   "execution_count": 123,
   "id": "published-attack",
   "metadata": {},
   "outputs": [
    {
     "name": "stderr",
     "output_type": "stream",
     "text": [
      "/Users/mac/opt/anaconda3/envs/recoxplainer/lib/python3.6/site-packages/scipy/sparse/_index.py:125: SparseEfficiencyWarning:\n",
      "\n",
      "Changing the sparsity structure of a csr_matrix is expensive. lil_matrix is more efficient.\n",
      "\n"
     ]
    },
    {
     "data": {
      "application/vnd.jupyter.widget-view+json": {
       "model_id": "86af89c580b54727aec27befb4ced5cb",
       "version_major": 2,
       "version_minor": 0
      },
      "text/plain": [
       "  0%|          | 0/30 [00:00<?, ?it/s]"
      ]
     },
     "metadata": {},
     "output_type": "display_data"
    },
    {
     "data": {
      "text/plain": [
       "True"
      ]
     },
     "execution_count": 123,
     "metadata": {},
     "output_type": "execute_result"
    }
   ],
   "source": [
    "als.fit(train)"
   ]
  },
  {
   "cell_type": "code",
   "execution_count": 124,
   "id": "frequent-adventure",
   "metadata": {},
   "outputs": [],
   "source": [
    "recommender = Recommender(train, als)"
   ]
  },
  {
   "cell_type": "code",
   "execution_count": 125,
   "id": "physical-iraqi",
   "metadata": {},
   "outputs": [
    {
     "data": {
      "application/vnd.jupyter.widget-view+json": {
       "model_id": "f947451ebda643a0948cb01212636664",
       "version_major": 2,
       "version_minor": 0
      },
      "text/plain": [
       "Recommending for users:   0%|          | 0/943 [00:00<?, ?it/s]"
      ]
     },
     "metadata": {},
     "output_type": "display_data"
    }
   ],
   "source": [
    "recommendations = recommender.recommend_all()"
   ]
  },
  {
   "cell_type": "code",
   "execution_count": 126,
   "id": "blessed-vermont",
   "metadata": {},
   "outputs": [],
   "source": [
    "eva = Evaluator(test)"
   ]
  },
  {
   "cell_type": "code",
   "execution_count": 127,
   "id": "threatened-danish",
   "metadata": {},
   "outputs": [
    {
     "data": {
      "text/plain": [
       "0.26530880160637865"
      ]
     },
     "execution_count": 127,
     "metadata": {},
     "output_type": "execute_result"
    }
   ],
   "source": [
    "eva.cal_hit_ratio(recommendations)"
   ]
  },
  {
   "cell_type": "code",
   "execution_count": 128,
   "id": "adaptive-colleague",
   "metadata": {},
   "outputs": [
    {
     "data": {
      "text/plain": [
       "0.32809923658336826"
      ]
     },
     "execution_count": 128,
     "metadata": {},
     "output_type": "execute_result"
    }
   ],
   "source": [
    "eva.cal_ndcg(recommendations)"
   ]
  },
  {
   "cell_type": "markdown",
   "id": "congressional-tactics",
   "metadata": {},
   "source": [
    "# Testing EMF"
   ]
  },
  {
   "cell_type": "code",
   "execution_count": 13,
   "id": "valid-mystery",
   "metadata": {},
   "outputs": [],
   "source": [
    "emf = EMFModel(**cfg.model.emf)"
   ]
  },
  {
   "cell_type": "code",
   "execution_count": 14,
   "id": "smoking-component",
   "metadata": {
    "scrolled": true
   },
   "outputs": [
    {
     "data": {
      "application/vnd.jupyter.widget-view+json": {
       "model_id": "f042fa0afb824d1686cd99c463518c90",
       "version_major": 2,
       "version_minor": 0
      },
      "text/plain": [
       "  0%|          | 0/10 [00:00<?, ?it/s]"
      ]
     },
     "metadata": {},
     "output_type": "display_data"
    },
    {
     "data": {
      "text/plain": [
       "True"
      ]
     },
     "execution_count": 14,
     "metadata": {},
     "output_type": "execute_result"
    }
   ],
   "source": [
    "emf.fit(train)"
   ]
  },
  {
   "cell_type": "code",
   "execution_count": 17,
   "id": "popular-springfield",
   "metadata": {},
   "outputs": [
    {
     "data": {
      "application/vnd.jupyter.widget-view+json": {
       "model_id": "272fef1baed94f9d80d8408ba6e56ec6",
       "version_major": 2,
       "version_minor": 0
      },
      "text/plain": [
       "Recommending for users:   0%|          | 0/943 [00:00<?, ?it/s]"
      ]
     },
     "metadata": {},
     "output_type": "display_data"
    }
   ],
   "source": [
    "recEMF = Recommender(train, emf)\n",
    "recEMF = recEMF.recommend_all()"
   ]
  },
  {
   "cell_type": "code",
   "execution_count": 18,
   "id": "adjustable-sauce",
   "metadata": {},
   "outputs": [
    {
     "data": {
      "text/plain": [
       "0.030749810797047666"
      ]
     },
     "execution_count": 18,
     "metadata": {},
     "output_type": "execute_result"
    }
   ],
   "source": [
    "eva.cal_hit_ratio(recEMF)"
   ]
  },
  {
   "cell_type": "code",
   "execution_count": 20,
   "id": "meaning-momentum",
   "metadata": {},
   "outputs": [
    {
     "data": {
      "text/plain": [
       "0.039184881904460934"
      ]
     },
     "execution_count": 20,
     "metadata": {},
     "output_type": "execute_result"
    }
   ],
   "source": [
    "eva.cal_ndcg(recEMF)"
   ]
  },
  {
   "cell_type": "markdown",
   "id": "desperate-fourth",
   "metadata": {},
   "source": [
    "# Testing GMF"
   ]
  },
  {
   "cell_type": "code",
   "execution_count": 92,
   "id": "leading-paste",
   "metadata": {},
   "outputs": [
    {
     "data": {
      "application/vnd.jupyter.widget-view+json": {
       "model_id": "c24d5039f09c4d2ab677b7818acee8d4",
       "version_major": 2,
       "version_minor": 0
      },
      "text/plain": [
       "  0%|          | 0/30 [00:00<?, ?it/s]"
      ]
     },
     "metadata": {},
     "output_type": "display_data"
    },
    {
     "data": {
      "text/plain": [
       "True"
      ]
     },
     "execution_count": 92,
     "metadata": {},
     "output_type": "execute_result"
    }
   ],
   "source": [
    "gmf = GMFModel(**cfg.model.gmf)\n",
    "gmf.fit(train)"
   ]
  },
  {
   "cell_type": "code",
   "execution_count": 93,
   "id": "fancy-screening",
   "metadata": {},
   "outputs": [
    {
     "data": {
      "application/vnd.jupyter.widget-view+json": {
       "model_id": "6a51d51f503c4057bd1ac604f3fe2682",
       "version_major": 2,
       "version_minor": 0
      },
      "text/plain": [
       "Recommending for users:   0%|          | 0/943 [00:00<?, ?it/s]"
      ]
     },
     "metadata": {},
     "output_type": "display_data"
    }
   ],
   "source": [
    "recGMF = Recommender(train, gmf)\n",
    "RecsGMF = recGMF.recommend_all()"
   ]
  },
  {
   "cell_type": "code",
   "execution_count": 94,
   "id": "stupid-cursor",
   "metadata": {},
   "outputs": [
    {
     "data": {
      "text/plain": [
       "0.0005802992812536821"
      ]
     },
     "execution_count": 94,
     "metadata": {},
     "output_type": "execute_result"
    }
   ],
   "source": [
    "eva.cal_hit_ratio(RecsGMF)"
   ]
  },
  {
   "cell_type": "code",
   "execution_count": 95,
   "id": "suspended-binary",
   "metadata": {},
   "outputs": [
    {
     "data": {
      "text/plain": [
       "0.0009633867485160594"
      ]
     },
     "execution_count": 95,
     "metadata": {},
     "output_type": "execute_result"
    }
   ],
   "source": [
    "eva.cal_ndcg(RecsGMF)"
   ]
  },
  {
   "cell_type": "markdown",
   "id": "turkish-junior",
   "metadata": {},
   "source": [
    "# Testing BPR"
   ]
  },
  {
   "cell_type": "code",
   "execution_count": 129,
   "id": "hollywood-theorem",
   "metadata": {},
   "outputs": [
    {
     "name": "stderr",
     "output_type": "stream",
     "text": [
      "/Users/mac/opt/anaconda3/envs/recoxplainer/lib/python3.6/site-packages/scipy/sparse/_index.py:125: SparseEfficiencyWarning:\n",
      "\n",
      "Changing the sparsity structure of a csr_matrix is expensive. lil_matrix is more efficient.\n",
      "\n"
     ]
    },
    {
     "data": {
      "application/vnd.jupyter.widget-view+json": {
       "model_id": "2198a6922c134d78bbf4d0c61d8f65ed",
       "version_major": 2,
       "version_minor": 0
      },
      "text/plain": [
       "  0%|          | 0/100 [00:00<?, ?it/s]"
      ]
     },
     "metadata": {},
     "output_type": "display_data"
    },
    {
     "data": {
      "text/plain": [
       "True"
      ]
     },
     "execution_count": 129,
     "metadata": {},
     "output_type": "execute_result"
    }
   ],
   "source": [
    "bpr = BPR(latent_dim=16, epochs=100 , reg_term= 0.0, learning_rate=0.005)\n",
    "bpr.fit(train)"
   ]
  },
  {
   "cell_type": "code",
   "execution_count": 134,
   "id": "pursuant-departure",
   "metadata": {},
   "outputs": [
    {
     "data": {
      "text/plain": [
       "100"
      ]
     },
     "execution_count": 134,
     "metadata": {},
     "output_type": "execute_result"
    }
   ],
   "source": [
    "bpr.epochs"
   ]
  },
  {
   "cell_type": "code",
   "execution_count": 130,
   "id": "desirable-contact",
   "metadata": {},
   "outputs": [
    {
     "data": {
      "application/vnd.jupyter.widget-view+json": {
       "model_id": "953f715a3d7541bcaf098c06c0d80882",
       "version_major": 2,
       "version_minor": 0
      },
      "text/plain": [
       "Recommending for users:   0%|          | 0/943 [00:00<?, ?it/s]"
      ]
     },
     "metadata": {},
     "output_type": "display_data"
    }
   ],
   "source": [
    "recBPR = Recommender(train, bpr)\n",
    "RecsBPR = recBPR.recommend_all()"
   ]
  },
  {
   "cell_type": "code",
   "execution_count": 131,
   "id": "completed-blocking",
   "metadata": {},
   "outputs": [
    {
     "data": {
      "text/plain": [
       "0.2232330454840628"
      ]
     },
     "execution_count": 131,
     "metadata": {},
     "output_type": "execute_result"
    }
   ],
   "source": [
    "eva.cal_hit_ratio(RecsBPR)"
   ]
  },
  {
   "cell_type": "code",
   "execution_count": 132,
   "id": "asian-processor",
   "metadata": {},
   "outputs": [
    {
     "data": {
      "text/plain": [
       "0.2664102389638914"
      ]
     },
     "execution_count": 132,
     "metadata": {},
     "output_type": "execute_result"
    }
   ],
   "source": [
    "eva.cal_ndcg(RecsBPR)"
   ]
  },
  {
   "cell_type": "markdown",
   "id": "treated-visibility",
   "metadata": {},
   "source": [
    "# Testing MLP"
   ]
  },
  {
   "cell_type": "code",
   "execution_count": 59,
   "id": "latter-rental",
   "metadata": {},
   "outputs": [
    {
     "data": {
      "application/vnd.jupyter.widget-view+json": {
       "model_id": "9c45bf1ec4f846adbf9263832b27e7c6",
       "version_major": 2,
       "version_minor": 0
      },
      "text/plain": [
       "  0%|          | 0/30 [00:00<?, ?it/s]"
      ]
     },
     "metadata": {},
     "output_type": "display_data"
    },
    {
     "data": {
      "text/plain": [
       "True"
      ]
     },
     "execution_count": 59,
     "metadata": {},
     "output_type": "execute_result"
    }
   ],
   "source": [
    "mlp = MLPModel(**cfg.model.mlp)\n",
    "mlp.fit(train)"
   ]
  },
  {
   "cell_type": "code",
   "execution_count": 76,
   "id": "earned-falls",
   "metadata": {},
   "outputs": [
    {
     "data": {
      "text/plain": [
       "0.005"
      ]
     },
     "execution_count": 76,
     "metadata": {},
     "output_type": "execute_result"
    }
   ],
   "source": [
    "mlp.learning_rate"
   ]
  },
  {
   "cell_type": "code",
   "execution_count": 60,
   "id": "distant-anime",
   "metadata": {},
   "outputs": [
    {
     "data": {
      "application/vnd.jupyter.widget-view+json": {
       "model_id": "38119f6184344e60abd0d810f9fbf78a",
       "version_major": 2,
       "version_minor": 0
      },
      "text/plain": [
       "Recommending for users:   0%|          | 0/943 [00:00<?, ?it/s]"
      ]
     },
     "metadata": {},
     "output_type": "display_data"
    }
   ],
   "source": [
    "recMLP = Recommender(train, mlp)\n",
    "RecsMLP = recMLP.recommend_all()"
   ]
  },
  {
   "cell_type": "code",
   "execution_count": 61,
   "id": "former-marking",
   "metadata": {},
   "outputs": [
    {
     "data": {
      "text/plain": [
       "0.0062603283049068505"
      ]
     },
     "execution_count": 61,
     "metadata": {},
     "output_type": "execute_result"
    }
   ],
   "source": [
    "eva.cal_hit_ratio(RecsMLP)"
   ]
  },
  {
   "cell_type": "code",
   "execution_count": 62,
   "id": "guilty-pregnancy",
   "metadata": {},
   "outputs": [
    {
     "data": {
      "text/plain": [
       "0.007851105857529975"
      ]
     },
     "execution_count": 62,
     "metadata": {},
     "output_type": "execute_result"
    }
   ],
   "source": [
    "eva.cal_ndcg(RecsMLP)"
   ]
  },
  {
   "cell_type": "code",
   "execution_count": null,
   "id": "damaged-superior",
   "metadata": {},
   "outputs": [],
   "source": []
  }
 ],
 "metadata": {
  "kernelspec": {
   "display_name": "Python 3",
   "language": "python",
   "name": "python3"
  },
  "language_info": {
   "codemirror_mode": {
    "name": "ipython",
    "version": 3
   },
   "file_extension": ".py",
   "mimetype": "text/x-python",
   "name": "python",
   "nbconvert_exporter": "python",
   "pygments_lexer": "ipython3",
   "version": "3.6.13"
  }
 },
 "nbformat": 4,
 "nbformat_minor": 5
}
